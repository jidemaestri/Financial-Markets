{
  "nbformat": 4,
  "nbformat_minor": 0,
  "metadata": {
    "colab": {
      "name": "Ciencia_de_Datos[Industrial-UTN].ipynb",
      "provenance": [],
      "toc_visible": true,
      "include_colab_link": true
    },
    "kernelspec": {
      "name": "python3",
      "display_name": "Python 3"
    }
  },
  "cells": [
    {
      "cell_type": "markdown",
      "metadata": {
        "id": "view-in-github",
        "colab_type": "text"
      },
      "source": [
        "<a href=\"https://colab.research.google.com/github/jidemaestri/Financial-Markets/blob/master/Argentina%20Stock%20Index%20-%20Merval%20-%20IN%20USD.ipynb\" target=\"_parent\"><img src=\"https://colab.research.google.com/assets/colab-badge.svg\" alt=\"Open In Colab\"/></a>"
      ]
    },
    {
      "cell_type": "code",
      "metadata": {
        "id": "QT5MNCcOCBNS",
        "outputId": "84ffc325-2881-4639-82e6-8ee65ae6050c",
        "colab": {
          "base_uri": "https://localhost:8080/",
          "height": 71
        }
      },
      "source": [
        "import pandas as pd\n",
        "import numpy as np\n",
        "import matplotlib.pyplot as plt\n",
        "import seaborn as sns\n",
        "import os\n",
        "import requests\n",
        "import datetime as dt\n",
        "import pandas_datareader as wb"
      ],
      "execution_count": null,
      "outputs": [
        {
          "output_type": "stream",
          "text": [
            "/usr/local/lib/python3.6/dist-packages/statsmodels/tools/_testing.py:19: FutureWarning: pandas.util.testing is deprecated. Use the functions in the public API at pandas.testing instead.\n",
            "  import pandas.util.testing as tm\n"
          ],
          "name": "stderr"
        }
      ]
    },
    {
      "cell_type": "code",
      "metadata": {
        "id": "v-OpIk_YIwvX"
      },
      "source": [
        "#from google.colab import drive\n",
        "#drive.mount('/content/drive')"
      ],
      "execution_count": null,
      "outputs": []
    },
    {
      "cell_type": "code",
      "metadata": {
        "id": "8lLLdo8Hig3K"
      },
      "source": [
        "indice_bursatil = pd.read_csv(\"indices-bursatiles-argentina-indices-cotizaciones.csv\", delimiter=\",\")\n",
        "\n",
        "#indice_bursatil was extracted from datos.gob.ar \n",
        "#for more info: https://datos.gob.ar/dataset/sspm-indices-bursatiles-argentina\n"
      ],
      "execution_count": null,
      "outputs": []
    },
    {
      "cell_type": "code",
      "metadata": {
        "id": "iW6IuDu85GzL"
      },
      "source": [
        "from google.colab import drive\n",
        "drive.mount('/content/drive')"
      ],
      "execution_count": null,
      "outputs": []
    },
    {
      "cell_type": "markdown",
      "metadata": {
        "id": "o8MAj6v2kmWr"
      },
      "source": [
        "Índice MERVAL: Índice Bursátil Argentina\n",
        "\n",
        "\n",
        "> Bloque con sangría\n",
        "\n"
      ]
    },
    {
      "cell_type": "code",
      "metadata": {
        "id": "P8Xh2PipFBaz",
        "outputId": "bfec4b0a-60a2-4ad3-c0fb-f80838e3e108",
        "colab": {
          "base_uri": "https://localhost:8080/",
          "height": 204
        }
      },
      "source": [
        "indice_bursatil.head()"
      ],
      "execution_count": null,
      "outputs": [
        {
          "output_type": "execute_result",
          "data": {
            "text/html": [
              "<div>\n",
              "<style scoped>\n",
              "    .dataframe tbody tr th:only-of-type {\n",
              "        vertical-align: middle;\n",
              "    }\n",
              "\n",
              "    .dataframe tbody tr th {\n",
              "        vertical-align: top;\n",
              "    }\n",
              "\n",
              "    .dataframe thead th {\n",
              "        text-align: right;\n",
              "    }\n",
              "</style>\n",
              "<table border=\"1\" class=\"dataframe\">\n",
              "  <thead>\n",
              "    <tr style=\"text-align: right;\">\n",
              "      <th></th>\n",
              "      <th>indice_tiempo</th>\n",
              "      <th>bolsa_g</th>\n",
              "      <th>burcap</th>\n",
              "      <th>merval</th>\n",
              "      <th>merval_arg</th>\n",
              "      <th>merval_25</th>\n",
              "    </tr>\n",
              "  </thead>\n",
              "  <tbody>\n",
              "    <tr>\n",
              "      <th>0</th>\n",
              "      <td>2004-10-04</td>\n",
              "      <td>51553.00</td>\n",
              "      <td>2881.26</td>\n",
              "      <td>1167.09</td>\n",
              "      <td>1085.43</td>\n",
              "      <td>1151.0</td>\n",
              "    </tr>\n",
              "    <tr>\n",
              "      <th>1</th>\n",
              "      <td>2004-10-05</td>\n",
              "      <td>50346.26</td>\n",
              "      <td>2830.79</td>\n",
              "      <td>1135.37</td>\n",
              "      <td>1054.10</td>\n",
              "      <td>1151.0</td>\n",
              "    </tr>\n",
              "    <tr>\n",
              "      <th>2</th>\n",
              "      <td>2004-10-06</td>\n",
              "      <td>50553.64</td>\n",
              "      <td>2852.15</td>\n",
              "      <td>1128.00</td>\n",
              "      <td>1046.48</td>\n",
              "      <td>1113.0</td>\n",
              "    </tr>\n",
              "    <tr>\n",
              "      <th>3</th>\n",
              "      <td>2004-10-07</td>\n",
              "      <td>50978.02</td>\n",
              "      <td>2868.16</td>\n",
              "      <td>1140.26</td>\n",
              "      <td>1059.00</td>\n",
              "      <td>1126.0</td>\n",
              "    </tr>\n",
              "    <tr>\n",
              "      <th>4</th>\n",
              "      <td>2004-10-08</td>\n",
              "      <td>50763.08</td>\n",
              "      <td>2853.87</td>\n",
              "      <td>1128.74</td>\n",
              "      <td>1048.06</td>\n",
              "      <td>1115.0</td>\n",
              "    </tr>\n",
              "  </tbody>\n",
              "</table>\n",
              "</div>"
            ],
            "text/plain": [
              "  indice_tiempo   bolsa_g   burcap   merval  merval_arg  merval_25\n",
              "0    2004-10-04  51553.00  2881.26  1167.09     1085.43     1151.0\n",
              "1    2004-10-05  50346.26  2830.79  1135.37     1054.10     1151.0\n",
              "2    2004-10-06  50553.64  2852.15  1128.00     1046.48     1113.0\n",
              "3    2004-10-07  50978.02  2868.16  1140.26     1059.00     1126.0\n",
              "4    2004-10-08  50763.08  2853.87  1128.74     1048.06     1115.0"
            ]
          },
          "metadata": {
            "tags": []
          },
          "execution_count": 6
        }
      ]
    },
    {
      "cell_type": "code",
      "metadata": {
        "id": "EB2N9CGIksfz",
        "outputId": "01d7028a-014e-410f-d032-2e67beb666b2",
        "colab": {
          "base_uri": "https://localhost:8080/",
          "height": 297
        }
      },
      "source": [
        "indice_bursatil.describe()"
      ],
      "execution_count": null,
      "outputs": [
        {
          "output_type": "execute_result",
          "data": {
            "text/html": [
              "<div>\n",
              "<style scoped>\n",
              "    .dataframe tbody tr th:only-of-type {\n",
              "        vertical-align: middle;\n",
              "    }\n",
              "\n",
              "    .dataframe tbody tr th {\n",
              "        vertical-align: top;\n",
              "    }\n",
              "\n",
              "    .dataframe thead th {\n",
              "        text-align: right;\n",
              "    }\n",
              "</style>\n",
              "<table border=\"1\" class=\"dataframe\">\n",
              "  <thead>\n",
              "    <tr style=\"text-align: right;\">\n",
              "      <th></th>\n",
              "      <th>bolsa_g</th>\n",
              "      <th>burcap</th>\n",
              "      <th>merval</th>\n",
              "      <th>merval_arg</th>\n",
              "      <th>merval_25</th>\n",
              "    </tr>\n",
              "  </thead>\n",
              "  <tbody>\n",
              "    <tr>\n",
              "      <th>count</th>\n",
              "      <td>3.904000e+03</td>\n",
              "      <td>3545.000000</td>\n",
              "      <td>3904.000000</td>\n",
              "      <td>3904.000000</td>\n",
              "      <td>3545.000000</td>\n",
              "    </tr>\n",
              "    <tr>\n",
              "      <th>mean</th>\n",
              "      <td>4.668402e+05</td>\n",
              "      <td>23504.097836</td>\n",
              "      <td>10449.357351</td>\n",
              "      <td>9417.586004</td>\n",
              "      <td>8372.645368</td>\n",
              "    </tr>\n",
              "    <tr>\n",
              "      <th>std</th>\n",
              "      <td>5.093040e+05</td>\n",
              "      <td>26233.515235</td>\n",
              "      <td>12057.938642</td>\n",
              "      <td>11110.245265</td>\n",
              "      <td>10149.826091</td>\n",
              "    </tr>\n",
              "    <tr>\n",
              "      <th>min</th>\n",
              "      <td>5.034626e+04</td>\n",
              "      <td>2814.380000</td>\n",
              "      <td>828.990000</td>\n",
              "      <td>591.870000</td>\n",
              "      <td>828.940000</td>\n",
              "    </tr>\n",
              "    <tr>\n",
              "      <th>25%</th>\n",
              "      <td>1.115118e+05</td>\n",
              "      <td>7172.360000</td>\n",
              "      <td>2076.897500</td>\n",
              "      <td>1513.107500</td>\n",
              "      <td>2003.120000</td>\n",
              "    </tr>\n",
              "    <tr>\n",
              "      <th>50%</th>\n",
              "      <td>1.828902e+05</td>\n",
              "      <td>9533.550000</td>\n",
              "      <td>3307.000000</td>\n",
              "      <td>2464.500000</td>\n",
              "      <td>2825.800000</td>\n",
              "    </tr>\n",
              "    <tr>\n",
              "      <th>75%</th>\n",
              "      <td>6.810196e+05</td>\n",
              "      <td>32254.870000</td>\n",
              "      <td>15836.047500</td>\n",
              "      <td>14760.732500</td>\n",
              "      <td>11622.540000</td>\n",
              "    </tr>\n",
              "    <tr>\n",
              "      <th>max</th>\n",
              "      <td>2.095585e+06</td>\n",
              "      <td>109493.300000</td>\n",
              "      <td>49449.860000</td>\n",
              "      <td>39634.670000</td>\n",
              "      <td>41313.960000</td>\n",
              "    </tr>\n",
              "  </tbody>\n",
              "</table>\n",
              "</div>"
            ],
            "text/plain": [
              "            bolsa_g         burcap        merval    merval_arg     merval_25\n",
              "count  3.904000e+03    3545.000000   3904.000000   3904.000000   3545.000000\n",
              "mean   4.668402e+05   23504.097836  10449.357351   9417.586004   8372.645368\n",
              "std    5.093040e+05   26233.515235  12057.938642  11110.245265  10149.826091\n",
              "min    5.034626e+04    2814.380000    828.990000    591.870000    828.940000\n",
              "25%    1.115118e+05    7172.360000   2076.897500   1513.107500   2003.120000\n",
              "50%    1.828902e+05    9533.550000   3307.000000   2464.500000   2825.800000\n",
              "75%    6.810196e+05   32254.870000  15836.047500  14760.732500  11622.540000\n",
              "max    2.095585e+06  109493.300000  49449.860000  39634.670000  41313.960000"
            ]
          },
          "metadata": {
            "tags": []
          },
          "execution_count": 7
        }
      ]
    },
    {
      "cell_type": "code",
      "metadata": {
        "id": "2nZjo6qVkvcs"
      },
      "source": [
        "merval = indice_bursatil[[\"indice_tiempo\",\"merval\"]]\n",
        "#Argentinian stock index, measured in ARS (Argentinian pesos)"
      ],
      "execution_count": null,
      "outputs": []
    },
    {
      "cell_type": "code",
      "metadata": {
        "id": "bUGSNfFfk1fg",
        "outputId": "a130d1aa-177e-4e6f-bd37-8182d2cceb65",
        "colab": {
          "base_uri": "https://localhost:8080/",
          "height": 359
        }
      },
      "source": [
        "merval.tail(10)"
      ],
      "execution_count": null,
      "outputs": [
        {
          "output_type": "execute_result",
          "data": {
            "text/html": [
              "<div>\n",
              "<style scoped>\n",
              "    .dataframe tbody tr th:only-of-type {\n",
              "        vertical-align: middle;\n",
              "    }\n",
              "\n",
              "    .dataframe tbody tr th {\n",
              "        vertical-align: top;\n",
              "    }\n",
              "\n",
              "    .dataframe thead th {\n",
              "        text-align: right;\n",
              "    }\n",
              "</style>\n",
              "<table border=\"1\" class=\"dataframe\">\n",
              "  <thead>\n",
              "    <tr style=\"text-align: right;\">\n",
              "      <th></th>\n",
              "      <th>indice_tiempo</th>\n",
              "      <th>merval</th>\n",
              "    </tr>\n",
              "  </thead>\n",
              "  <tbody>\n",
              "    <tr>\n",
              "      <th>5770</th>\n",
              "      <td>2020-07-22</td>\n",
              "      <td>48634.09</td>\n",
              "    </tr>\n",
              "    <tr>\n",
              "      <th>5771</th>\n",
              "      <td>2020-07-23</td>\n",
              "      <td>48408.27</td>\n",
              "    </tr>\n",
              "    <tr>\n",
              "      <th>5772</th>\n",
              "      <td>2020-07-24</td>\n",
              "      <td>48605.06</td>\n",
              "    </tr>\n",
              "    <tr>\n",
              "      <th>5773</th>\n",
              "      <td>2020-07-25</td>\n",
              "      <td>NaN</td>\n",
              "    </tr>\n",
              "    <tr>\n",
              "      <th>5774</th>\n",
              "      <td>2020-07-26</td>\n",
              "      <td>NaN</td>\n",
              "    </tr>\n",
              "    <tr>\n",
              "      <th>5775</th>\n",
              "      <td>2020-07-27</td>\n",
              "      <td>49449.86</td>\n",
              "    </tr>\n",
              "    <tr>\n",
              "      <th>5776</th>\n",
              "      <td>2020-07-28</td>\n",
              "      <td>48934.44</td>\n",
              "    </tr>\n",
              "    <tr>\n",
              "      <th>5777</th>\n",
              "      <td>2020-07-29</td>\n",
              "      <td>48884.46</td>\n",
              "    </tr>\n",
              "    <tr>\n",
              "      <th>5778</th>\n",
              "      <td>2020-07-30</td>\n",
              "      <td>49405.75</td>\n",
              "    </tr>\n",
              "    <tr>\n",
              "      <th>5779</th>\n",
              "      <td>2020-07-31</td>\n",
              "      <td>49253.62</td>\n",
              "    </tr>\n",
              "  </tbody>\n",
              "</table>\n",
              "</div>"
            ],
            "text/plain": [
              "     indice_tiempo    merval\n",
              "5770    2020-07-22  48634.09\n",
              "5771    2020-07-23  48408.27\n",
              "5772    2020-07-24  48605.06\n",
              "5773    2020-07-25       NaN\n",
              "5774    2020-07-26       NaN\n",
              "5775    2020-07-27  49449.86\n",
              "5776    2020-07-28  48934.44\n",
              "5777    2020-07-29  48884.46\n",
              "5778    2020-07-30  49405.75\n",
              "5779    2020-07-31  49253.62"
            ]
          },
          "metadata": {
            "tags": []
          },
          "execution_count": 9
        }
      ]
    },
    {
      "cell_type": "code",
      "metadata": {
        "id": "uKENqMnSmg14",
        "outputId": "fb02d7d4-fe6d-4061-ed7c-54801fc9dbca",
        "colab": {
          "base_uri": "https://localhost:8080/",
          "height": 530
        }
      },
      "source": [
        "merval.indice_tiempo = pd.to_datetime(merval.indice_tiempo) #### indicar que columna queremos transformar #####\n",
        "merval['year'] = merval.indice_tiempo.dt.year #creamos una nueva columna \"year\" con .dt.year sobre la col \"indice_tiempo\"\n",
        "merval[\"month\"] = merval.indice_tiempo.dt.month\n",
        "merval.head()"
      ],
      "execution_count": null,
      "outputs": [
        {
          "output_type": "stream",
          "text": [
            "/usr/local/lib/python3.6/dist-packages/pandas/core/generic.py:5303: SettingWithCopyWarning: \n",
            "A value is trying to be set on a copy of a slice from a DataFrame.\n",
            "Try using .loc[row_indexer,col_indexer] = value instead\n",
            "\n",
            "See the caveats in the documentation: https://pandas.pydata.org/pandas-docs/stable/user_guide/indexing.html#returning-a-view-versus-a-copy\n",
            "  self[name] = value\n",
            "/usr/local/lib/python3.6/dist-packages/ipykernel_launcher.py:2: SettingWithCopyWarning: \n",
            "A value is trying to be set on a copy of a slice from a DataFrame.\n",
            "Try using .loc[row_indexer,col_indexer] = value instead\n",
            "\n",
            "See the caveats in the documentation: https://pandas.pydata.org/pandas-docs/stable/user_guide/indexing.html#returning-a-view-versus-a-copy\n",
            "  \n",
            "/usr/local/lib/python3.6/dist-packages/ipykernel_launcher.py:3: SettingWithCopyWarning: \n",
            "A value is trying to be set on a copy of a slice from a DataFrame.\n",
            "Try using .loc[row_indexer,col_indexer] = value instead\n",
            "\n",
            "See the caveats in the documentation: https://pandas.pydata.org/pandas-docs/stable/user_guide/indexing.html#returning-a-view-versus-a-copy\n",
            "  This is separate from the ipykernel package so we can avoid doing imports until\n"
          ],
          "name": "stderr"
        },
        {
          "output_type": "execute_result",
          "data": {
            "text/html": [
              "<div>\n",
              "<style scoped>\n",
              "    .dataframe tbody tr th:only-of-type {\n",
              "        vertical-align: middle;\n",
              "    }\n",
              "\n",
              "    .dataframe tbody tr th {\n",
              "        vertical-align: top;\n",
              "    }\n",
              "\n",
              "    .dataframe thead th {\n",
              "        text-align: right;\n",
              "    }\n",
              "</style>\n",
              "<table border=\"1\" class=\"dataframe\">\n",
              "  <thead>\n",
              "    <tr style=\"text-align: right;\">\n",
              "      <th></th>\n",
              "      <th>indice_tiempo</th>\n",
              "      <th>merval</th>\n",
              "      <th>year</th>\n",
              "      <th>month</th>\n",
              "    </tr>\n",
              "  </thead>\n",
              "  <tbody>\n",
              "    <tr>\n",
              "      <th>0</th>\n",
              "      <td>2004-10-04</td>\n",
              "      <td>1167.09</td>\n",
              "      <td>2004</td>\n",
              "      <td>10</td>\n",
              "    </tr>\n",
              "    <tr>\n",
              "      <th>1</th>\n",
              "      <td>2004-10-05</td>\n",
              "      <td>1135.37</td>\n",
              "      <td>2004</td>\n",
              "      <td>10</td>\n",
              "    </tr>\n",
              "    <tr>\n",
              "      <th>2</th>\n",
              "      <td>2004-10-06</td>\n",
              "      <td>1128.00</td>\n",
              "      <td>2004</td>\n",
              "      <td>10</td>\n",
              "    </tr>\n",
              "    <tr>\n",
              "      <th>3</th>\n",
              "      <td>2004-10-07</td>\n",
              "      <td>1140.26</td>\n",
              "      <td>2004</td>\n",
              "      <td>10</td>\n",
              "    </tr>\n",
              "    <tr>\n",
              "      <th>4</th>\n",
              "      <td>2004-10-08</td>\n",
              "      <td>1128.74</td>\n",
              "      <td>2004</td>\n",
              "      <td>10</td>\n",
              "    </tr>\n",
              "  </tbody>\n",
              "</table>\n",
              "</div>"
            ],
            "text/plain": [
              "  indice_tiempo   merval  year  month\n",
              "0    2004-10-04  1167.09  2004     10\n",
              "1    2004-10-05  1135.37  2004     10\n",
              "2    2004-10-06  1128.00  2004     10\n",
              "3    2004-10-07  1140.26  2004     10\n",
              "4    2004-10-08  1128.74  2004     10"
            ]
          },
          "metadata": {
            "tags": []
          },
          "execution_count": 10
        }
      ]
    },
    {
      "cell_type": "code",
      "metadata": {
        "id": "bAOI-6cDl7zj",
        "outputId": "8312574c-c18c-4387-db9f-87a7864cc5e5",
        "colab": {
          "base_uri": "https://localhost:8080/",
          "height": 340
        }
      },
      "source": [
        "merval_by_year = merval.groupby([\"year\"])[\"merval\"].mean()\n",
        "merval_by_year.head(18)"
      ],
      "execution_count": null,
      "outputs": [
        {
          "output_type": "execute_result",
          "data": {
            "text/plain": [
              "year\n",
              "2004     1248.644375\n",
              "2005     1492.634127\n",
              "2006     1743.976048\n",
              "2007     2155.937581\n",
              "2008     1771.014597\n",
              "2009     1628.339918\n",
              "2010     2543.173984\n",
              "2011     3106.676082\n",
              "2012     2490.404357\n",
              "2013     3979.724609\n",
              "2014     8088.324091\n",
              "2015    11061.224835\n",
              "2016    14468.665976\n",
              "2017    22694.177571\n",
              "2018    30355.156132\n",
              "2019    34402.599246\n",
              "2020    37724.875855\n",
              "Name: merval, dtype: float64"
            ]
          },
          "metadata": {
            "tags": []
          },
          "execution_count": 11
        }
      ]
    },
    {
      "cell_type": "code",
      "metadata": {
        "id": "s8y9INtYol1I",
        "outputId": "d6ca6c13-80de-4d5e-e394-b4c5350d4561",
        "colab": {
          "base_uri": "https://localhost:8080/",
          "height": 311
        }
      },
      "source": [
        "ax = sns.set_context(\"talk\", font_scale=0.8)\n",
        "merval_by_year.plot(title = \"Índice Bursátil - MERVAL Argentina - in ARS\" )\n",
        "plt.legend(loc='center left', bbox_to_anchor=(1, 0.5))\n",
        "plt.show()"
      ],
      "execution_count": null,
      "outputs": [
        {
          "output_type": "display_data",
          "data": {
            "image/png": "[encoded data removed]",
            "text/plain": [
              "<Figure size 432x288 with 1 Axes>"
            ]
          },
          "metadata": {
            "tags": [],
            "needs_background": "light"
          }
        }
      ]
    },
    {
      "cell_type": "code",
      "metadata": {
        "id": "mRMIgzlFpwPb",
        "outputId": "1296a51f-7c6b-4b13-816f-b9801107c14a",
        "colab": {
          "base_uri": "https://localhost:8080/",
          "height": 524
        }
      },
      "source": [
        "fig, ax = plt.subplots(figsize=(16,8))\n",
        "sns.barplot(x = \"year\", y = \"merval\", ax=ax, data=merval)\n",
        "plt.title(\"Merval - Argentina Stock Index - in ARS\")\n",
        "plt.plot()"
      ],
      "execution_count": null,
      "outputs": [
        {
          "output_type": "execute_result",
          "data": {
            "text/plain": [
              "[]"
            ]
          },
          "metadata": {
            "tags": []
          },
          "execution_count": 13
        },
        {
          "output_type": "display_data",
          "data": {
            "image/png": "[encoded data removed]",
            "text/plain": [
              "<Figure size 1152x576 with 1 Axes>"
            ]
          },
          "metadata": {
            "tags": [],
            "needs_background": "light"
          }
        }
      ]
    },
    {
      "cell_type": "markdown",
      "metadata": {
        "id": "SaaWq7tBqyM2"
      },
      "source": [
        "Dólar CCL - FX: USD to ARS Exchange Rate \n",
        "\n",
        " Esta operatoria financiera también conocida como contado con liquidez, CCL o contado con liqui, se realiza a través de la bolsa local, y es una alternativa para que las grandes empresas puedan hacerse de dólares americanos. Es una medida más realista del valor del dólar libre.\n",
        "\n",
        "This financial operation, also known as cash with liquidity, CCL, is carried out through the local stock exchange, and is an alternative for big companies to obtain US dollars. It is a more realistic measure of the value of the free dollar."
      ]
    },
    {
      "cell_type": "code",
      "metadata": {
        "id": "zm2ks9ERrb2G"
      },
      "source": [
        "tickers=[\"GGAL\", \"GGAL.BA\"]\n",
        "CCL_data = pd.DataFrame()\n",
        "for t in tickers:\n",
        "    CCL_data[t]= wb.DataReader(t, data_source=\"yahoo\", start=\"01-01-2003\")[(\"Adj Close\")]"
      ],
      "execution_count": null,
      "outputs": []
    },
    {
      "cell_type": "code",
      "metadata": {
        "id": "4z0Olf2pssUj",
        "outputId": "dbf7b314-b8bd-40b9-875e-8eea647292e6",
        "colab": {
          "base_uri": "https://localhost:8080/",
          "height": 450
        }
      },
      "source": [
        "CCL_data"
      ],
      "execution_count": null,
      "outputs": [
        {
          "output_type": "execute_result",
          "data": {
            "text/html": [
              "<div>\n",
              "<style scoped>\n",
              "    .dataframe tbody tr th:only-of-type {\n",
              "        vertical-align: middle;\n",
              "    }\n",
              "\n",
              "    .dataframe tbody tr th {\n",
              "        vertical-align: top;\n",
              "    }\n",
              "\n",
              "    .dataframe thead th {\n",
              "        text-align: right;\n",
              "    }\n",
              "</style>\n",
              "<table border=\"1\" class=\"dataframe\">\n",
              "  <thead>\n",
              "    <tr style=\"text-align: right;\">\n",
              "      <th></th>\n",
              "      <th>GGAL</th>\n",
              "      <th>GGAL.BA</th>\n",
              "    </tr>\n",
              "    <tr>\n",
              "      <th>Date</th>\n",
              "      <th></th>\n",
              "      <th></th>\n",
              "    </tr>\n",
              "  </thead>\n",
              "  <tbody>\n",
              "    <tr>\n",
              "      <th>2003-01-02</th>\n",
              "      <td>1.952801</td>\n",
              "      <td>0.666931</td>\n",
              "    </tr>\n",
              "    <tr>\n",
              "      <th>2003-01-03</th>\n",
              "      <td>2.076637</td>\n",
              "      <td>0.702539</td>\n",
              "    </tr>\n",
              "    <tr>\n",
              "      <th>2003-01-06</th>\n",
              "      <td>2.400516</td>\n",
              "      <td>0.765094</td>\n",
              "    </tr>\n",
              "    <tr>\n",
              "      <th>2003-01-07</th>\n",
              "      <td>2.381465</td>\n",
              "      <td>0.765094</td>\n",
              "    </tr>\n",
              "    <tr>\n",
              "      <th>2003-01-08</th>\n",
              "      <td>2.381465</td>\n",
              "      <td>0.784342</td>\n",
              "    </tr>\n",
              "    <tr>\n",
              "      <th>...</th>\n",
              "      <td>...</td>\n",
              "      <td>...</td>\n",
              "    </tr>\n",
              "    <tr>\n",
              "      <th>2020-09-21</th>\n",
              "      <td>7.600000</td>\n",
              "      <td>105.699997</td>\n",
              "    </tr>\n",
              "    <tr>\n",
              "      <th>2020-09-22</th>\n",
              "      <td>7.250000</td>\n",
              "      <td>104.449997</td>\n",
              "    </tr>\n",
              "    <tr>\n",
              "      <th>2020-09-23</th>\n",
              "      <td>6.860000</td>\n",
              "      <td>103.199997</td>\n",
              "    </tr>\n",
              "    <tr>\n",
              "      <th>2020-09-24</th>\n",
              "      <td>7.630000</td>\n",
              "      <td>110.849998</td>\n",
              "    </tr>\n",
              "    <tr>\n",
              "      <th>2020-09-25</th>\n",
              "      <td>7.400000</td>\n",
              "      <td>107.500000</td>\n",
              "    </tr>\n",
              "  </tbody>\n",
              "</table>\n",
              "<p>4465 rows × 2 columns</p>\n",
              "</div>"
            ],
            "text/plain": [
              "                GGAL     GGAL.BA\n",
              "Date                            \n",
              "2003-01-02  1.952801    0.666931\n",
              "2003-01-03  2.076637    0.702539\n",
              "2003-01-06  2.400516    0.765094\n",
              "2003-01-07  2.381465    0.765094\n",
              "2003-01-08  2.381465    0.784342\n",
              "...              ...         ...\n",
              "2020-09-21  7.600000  105.699997\n",
              "2020-09-22  7.250000  104.449997\n",
              "2020-09-23  6.860000  103.199997\n",
              "2020-09-24  7.630000  110.849998\n",
              "2020-09-25  7.400000  107.500000\n",
              "\n",
              "[4465 rows x 2 columns]"
            ]
          },
          "metadata": {
            "tags": []
          },
          "execution_count": 15
        }
      ]
    },
    {
      "cell_type": "code",
      "metadata": {
        "id": "IT5TcFXrs2VJ"
      },
      "source": [
        "GGAL_CCL = CCL_data.dropna()\n"
      ],
      "execution_count": null,
      "outputs": []
    },
    {
      "cell_type": "code",
      "metadata": {
        "id": "slrLdoaKs9zT",
        "outputId": "ee36e268-0260-4a1b-8fe4-1614c059ae16",
        "colab": {
          "base_uri": "https://localhost:8080/",
          "height": 297
        }
      },
      "source": [
        "GGAL_CCL.describe()"
      ],
      "execution_count": null,
      "outputs": [
        {
          "output_type": "execute_result",
          "data": {
            "text/html": [
              "<div>\n",
              "<style scoped>\n",
              "    .dataframe tbody tr th:only-of-type {\n",
              "        vertical-align: middle;\n",
              "    }\n",
              "\n",
              "    .dataframe tbody tr th {\n",
              "        vertical-align: top;\n",
              "    }\n",
              "\n",
              "    .dataframe thead th {\n",
              "        text-align: right;\n",
              "    }\n",
              "</style>\n",
              "<table border=\"1\" class=\"dataframe\">\n",
              "  <thead>\n",
              "    <tr style=\"text-align: right;\">\n",
              "      <th></th>\n",
              "      <th>GGAL</th>\n",
              "      <th>GGAL.BA</th>\n",
              "    </tr>\n",
              "  </thead>\n",
              "  <tbody>\n",
              "    <tr>\n",
              "      <th>count</th>\n",
              "      <td>4261.000000</td>\n",
              "      <td>4261.000000</td>\n",
              "    </tr>\n",
              "    <tr>\n",
              "      <th>mean</th>\n",
              "      <td>14.026634</td>\n",
              "      <td>27.109764</td>\n",
              "    </tr>\n",
              "    <tr>\n",
              "      <th>std</th>\n",
              "      <td>13.218953</td>\n",
              "      <td>40.675900</td>\n",
              "    </tr>\n",
              "    <tr>\n",
              "      <th>min</th>\n",
              "      <td>1.389264</td>\n",
              "      <td>0.550483</td>\n",
              "    </tr>\n",
              "    <tr>\n",
              "      <th>25%</th>\n",
              "      <td>5.667885</td>\n",
              "      <td>2.107617</td>\n",
              "    </tr>\n",
              "    <tr>\n",
              "      <th>50%</th>\n",
              "      <td>8.125557</td>\n",
              "      <td>3.524767</td>\n",
              "    </tr>\n",
              "    <tr>\n",
              "      <th>75%</th>\n",
              "      <td>17.230000</td>\n",
              "      <td>39.750168</td>\n",
              "    </tr>\n",
              "    <tr>\n",
              "      <th>max</th>\n",
              "      <td>71.444939</td>\n",
              "      <td>174.550003</td>\n",
              "    </tr>\n",
              "  </tbody>\n",
              "</table>\n",
              "</div>"
            ],
            "text/plain": [
              "              GGAL      GGAL.BA\n",
              "count  4261.000000  4261.000000\n",
              "mean     14.026634    27.109764\n",
              "std      13.218953    40.675900\n",
              "min       1.389264     0.550483\n",
              "25%       5.667885     2.107617\n",
              "50%       8.125557     3.524767\n",
              "75%      17.230000    39.750168\n",
              "max      71.444939   174.550003"
            ]
          },
          "metadata": {
            "tags": []
          },
          "execution_count": 17
        }
      ]
    },
    {
      "cell_type": "code",
      "metadata": {
        "id": "j5CY272ItbFs",
        "outputId": "3c7d68d4-4c38-4d2b-d9a8-24f44907d70e",
        "colab": {
          "base_uri": "https://localhost:8080/",
          "height": 572
        }
      },
      "source": [
        "GGAL_CCL[\"Dólar CCL\"] = ((GGAL_CCL[\"GGAL.BA\"]*10)/(GGAL_CCL[\"GGAL\"]))\n",
        "GGAL_CCL"
      ],
      "execution_count": null,
      "outputs": [
        {
          "output_type": "stream",
          "text": [
            "/usr/local/lib/python3.6/dist-packages/ipykernel_launcher.py:1: SettingWithCopyWarning: \n",
            "A value is trying to be set on a copy of a slice from a DataFrame.\n",
            "Try using .loc[row_indexer,col_indexer] = value instead\n",
            "\n",
            "See the caveats in the documentation: https://pandas.pydata.org/pandas-docs/stable/user_guide/indexing.html#returning-a-view-versus-a-copy\n",
            "  \"\"\"Entry point for launching an IPython kernel.\n"
          ],
          "name": "stderr"
        },
        {
          "output_type": "execute_result",
          "data": {
            "text/html": [
              "<div>\n",
              "<style scoped>\n",
              "    .dataframe tbody tr th:only-of-type {\n",
              "        vertical-align: middle;\n",
              "    }\n",
              "\n",
              "    .dataframe tbody tr th {\n",
              "        vertical-align: top;\n",
              "    }\n",
              "\n",
              "    .dataframe thead th {\n",
              "        text-align: right;\n",
              "    }\n",
              "</style>\n",
              "<table border=\"1\" class=\"dataframe\">\n",
              "  <thead>\n",
              "    <tr style=\"text-align: right;\">\n",
              "      <th></th>\n",
              "      <th>GGAL</th>\n",
              "      <th>GGAL.BA</th>\n",
              "      <th>Dólar CCL</th>\n",
              "    </tr>\n",
              "    <tr>\n",
              "      <th>Date</th>\n",
              "      <th></th>\n",
              "      <th></th>\n",
              "      <th></th>\n",
              "    </tr>\n",
              "  </thead>\n",
              "  <tbody>\n",
              "    <tr>\n",
              "      <th>2003-01-02</th>\n",
              "      <td>1.952801</td>\n",
              "      <td>0.666931</td>\n",
              "      <td>3.415254</td>\n",
              "    </tr>\n",
              "    <tr>\n",
              "      <th>2003-01-03</th>\n",
              "      <td>2.076637</td>\n",
              "      <td>0.702539</td>\n",
              "      <td>3.383061</td>\n",
              "    </tr>\n",
              "    <tr>\n",
              "      <th>2003-01-06</th>\n",
              "      <td>2.400516</td>\n",
              "      <td>0.765094</td>\n",
              "      <td>3.187206</td>\n",
              "    </tr>\n",
              "    <tr>\n",
              "      <th>2003-01-07</th>\n",
              "      <td>2.381465</td>\n",
              "      <td>0.765094</td>\n",
              "      <td>3.212703</td>\n",
              "    </tr>\n",
              "    <tr>\n",
              "      <th>2003-01-08</th>\n",
              "      <td>2.381465</td>\n",
              "      <td>0.784342</td>\n",
              "      <td>3.293526</td>\n",
              "    </tr>\n",
              "    <tr>\n",
              "      <th>...</th>\n",
              "      <td>...</td>\n",
              "      <td>...</td>\n",
              "      <td>...</td>\n",
              "    </tr>\n",
              "    <tr>\n",
              "      <th>2020-09-21</th>\n",
              "      <td>7.600000</td>\n",
              "      <td>105.699997</td>\n",
              "      <td>139.078945</td>\n",
              "    </tr>\n",
              "    <tr>\n",
              "      <th>2020-09-22</th>\n",
              "      <td>7.250000</td>\n",
              "      <td>104.449997</td>\n",
              "      <td>144.068961</td>\n",
              "    </tr>\n",
              "    <tr>\n",
              "      <th>2020-09-23</th>\n",
              "      <td>6.860000</td>\n",
              "      <td>103.199997</td>\n",
              "      <td>150.437310</td>\n",
              "    </tr>\n",
              "    <tr>\n",
              "      <th>2020-09-24</th>\n",
              "      <td>7.630000</td>\n",
              "      <td>110.849998</td>\n",
              "      <td>145.281778</td>\n",
              "    </tr>\n",
              "    <tr>\n",
              "      <th>2020-09-25</th>\n",
              "      <td>7.400000</td>\n",
              "      <td>107.500000</td>\n",
              "      <td>145.270268</td>\n",
              "    </tr>\n",
              "  </tbody>\n",
              "</table>\n",
              "<p>4261 rows × 3 columns</p>\n",
              "</div>"
            ],
            "text/plain": [
              "                GGAL     GGAL.BA   Dólar CCL\n",
              "Date                                        \n",
              "2003-01-02  1.952801    0.666931    3.415254\n",
              "2003-01-03  2.076637    0.702539    3.383061\n",
              "2003-01-06  2.400516    0.765094    3.187206\n",
              "2003-01-07  2.381465    0.765094    3.212703\n",
              "2003-01-08  2.381465    0.784342    3.293526\n",
              "...              ...         ...         ...\n",
              "2020-09-21  7.600000  105.699997  139.078945\n",
              "2020-09-22  7.250000  104.449997  144.068961\n",
              "2020-09-23  6.860000  103.199997  150.437310\n",
              "2020-09-24  7.630000  110.849998  145.281778\n",
              "2020-09-25  7.400000  107.500000  145.270268\n",
              "\n",
              "[4261 rows x 3 columns]"
            ]
          },
          "metadata": {
            "tags": []
          },
          "execution_count": 19
        }
      ]
    },
    {
      "cell_type": "code",
      "metadata": {
        "id": "ag3tqoUMtj4b",
        "outputId": "c77bdc8c-2905-498f-9f26-cf37169db8f0",
        "colab": {
          "base_uri": "https://localhost:8080/",
          "height": 170
        }
      },
      "source": [
        "GGAL_CCL[\"Dólar CCL\"].describe()"
      ],
      "execution_count": null,
      "outputs": [
        {
          "output_type": "execute_result",
          "data": {
            "text/plain": [
              "count    4261.000000\n",
              "mean       14.574563\n",
              "std        23.364835\n",
              "min         2.667486\n",
              "25%         3.111753\n",
              "50%         4.613799\n",
              "75%        14.568177\n",
              "max       150.437310\n",
              "Name: Dólar CCL, dtype: float64"
            ]
          },
          "metadata": {
            "tags": []
          },
          "execution_count": 20
        }
      ]
    },
    {
      "cell_type": "code",
      "metadata": {
        "id": "2rdPwIs4uZiK",
        "outputId": "6f0d310b-50e4-4d9e-9145-688fa1d3cf41",
        "colab": {
          "base_uri": "https://localhost:8080/",
          "height": 34
        }
      },
      "source": [
        "GGAL_CCL.columns"
      ],
      "execution_count": null,
      "outputs": [
        {
          "output_type": "execute_result",
          "data": {
            "text/plain": [
              "Index(['GGAL', 'GGAL.BA', 'Dólar CCL'], dtype='object')"
            ]
          },
          "metadata": {
            "tags": []
          },
          "execution_count": 21
        }
      ]
    },
    {
      "cell_type": "code",
      "metadata": {
        "id": "mk6z_y_GtAE3",
        "outputId": "d393373d-09ab-4fc2-bfdf-5a6000dfabce",
        "colab": {
          "base_uri": "https://localhost:8080/",
          "height": 848
        }
      },
      "source": [
        "plt.figure(figsize=(16,8))\n",
        "sns.kdeplot(GGAL_CCL['Dólar CCL'], color= \"Green\", shade = True)\n",
        "plt.xlabel(\"Dólar CCL\",size = 20)\n",
        "plt.ylabel(\"Distribution\",size = 10)\n",
        "plt.title('Exchange Rate - USD/ARS - \"Dólar CCL',size = 20)\n",
        "#plt.imsave('KDE',format='png') # Guardar la imagen\n",
        "plt.show()\n",
        "\n",
        "g = sns.catplot(y=\"Dólar CCL\",\n",
        "                data=GGAL_CCL, \n",
        "                kind=\"violin\", # box , violin\n",
        "                height = 5,aspect=3 ,palette = \"muted\")\n",
        "g.despine(left=True)\n",
        "g.set_xticklabels(rotation=90)\n",
        "g = g.set_ylabels(\"USD/ARS\")\n",
        "plt.title('Distribution USD/ARS',size = 20)\n",
        "plt.show()\n",
        "\n"
      ],
      "execution_count": null,
      "outputs": [
        {
          "output_type": "display_data",
          "data": {
            "image/png": "[encoded data removed]",
            "text/plain": [
              "<Figure size 1152x576 with 1 Axes>"
            ]
          },
          "metadata": {
            "tags": [],
            "needs_background": "light"
          }
        },
        {
          "output_type": "display_data",
          "data": {
            "image/png": "[encoded data removed]",
            "text/plain": [
              "<Figure size 1080x360 with 1 Axes>"
            ]
          },
          "metadata": {
            "tags": [],
            "needs_background": "light"
          }
        }
      ]
    },
    {
      "cell_type": "code",
      "metadata": {
        "id": "eggssXJ9wEsz",
        "outputId": "dee46a68-10ff-494e-e0c1-599ce8623c22",
        "colab": {
          "base_uri": "https://localhost:8080/",
          "height": 456
        }
      },
      "source": [
        "GGAL_CCL[\"Dólar CCL\"].plot(figsize=(18,8), color=\"g\")\n",
        "plt.title(\"DÓLAR CCL\")\n",
        "plt.ylabel(\"Pesos ARS\")\n",
        "plt.plot(label=\"Fecha\")"
      ],
      "execution_count": null,
      "outputs": [
        {
          "output_type": "execute_result",
          "data": {
            "text/plain": [
              "[]"
            ]
          },
          "metadata": {
            "tags": []
          },
          "execution_count": 23
        },
        {
          "output_type": "display_data",
          "data": {
            "image/png": "[encoded data removed]",
            "text/plain": [
              "<Figure size 1296x576 with 1 Axes>"
            ]
          },
          "metadata": {
            "tags": [],
            "needs_background": "light"
          }
        }
      ]
    },
    {
      "cell_type": "markdown",
      "metadata": {
        "id": "M2mfB93UvSg5"
      },
      "source": [
        "Most of the time, the monetary exchange rate was in the range of [10-25] ARS per US dollar. Due to the fact that the great leap occurred last year, values that emerged from the set are shown.\n",
        "\n",
        "La mayor parte del tiempo, el tipo de cambio monetario se encontró en la franja de [10-25] ARS por Dólar amerícano. Debido a que el gran salto se dio el último año se muestran valores que se desprendieron del conjunto."
      ]
    },
    {
      "cell_type": "markdown",
      "metadata": {
        "id": "AubUkSqEvRyq"
      },
      "source": [
        ""
      ]
    },
    {
      "cell_type": "code",
      "metadata": {
        "id": "jXN3ss-mKF5u",
        "outputId": "bb61aff0-2674-4596-9419-9149fa2042f1",
        "colab": {
          "base_uri": "https://localhost:8080/",
          "height": 34
        }
      },
      "source": [
        "merval.shape"
      ],
      "execution_count": null,
      "outputs": [
        {
          "output_type": "execute_result",
          "data": {
            "text/plain": [
              "(5780, 4)"
            ]
          },
          "metadata": {
            "tags": []
          },
          "execution_count": 24
        }
      ]
    },
    {
      "cell_type": "code",
      "metadata": {
        "id": "7ZPQxyYOOJio",
        "outputId": "ebd5e7a9-ceb8-4504-bf43-d03c8feade10",
        "colab": {
          "base_uri": "https://localhost:8080/",
          "height": 153
        }
      },
      "source": [
        "GGAL_CCL.index "
      ],
      "execution_count": null,
      "outputs": [
        {
          "output_type": "execute_result",
          "data": {
            "text/plain": [
              "DatetimeIndex(['2003-01-02', '2003-01-03', '2003-01-06', '2003-01-07',\n",
              "               '2003-01-08', '2003-01-09', '2003-01-10', '2003-01-13',\n",
              "               '2003-01-14', '2003-01-15',\n",
              "               ...\n",
              "               '2020-09-14', '2020-09-15', '2020-09-16', '2020-09-17',\n",
              "               '2020-09-18', '2020-09-21', '2020-09-22', '2020-09-23',\n",
              "               '2020-09-24', '2020-09-25'],\n",
              "              dtype='datetime64[ns]', name='Date', length=4261, freq=None)"
            ]
          },
          "metadata": {
            "tags": []
          },
          "execution_count": 25
        }
      ]
    },
    {
      "cell_type": "code",
      "metadata": {
        "id": "0kls3xZoKIhj",
        "outputId": "2b27d1a8-f927-4a85-acd5-891bb3e2544b",
        "colab": {
          "base_uri": "https://localhost:8080/",
          "height": 139
        }
      },
      "source": [
        "GGAL_CCL[\"indice_tiempo\"]=GGAL_CCL.index"
      ],
      "execution_count": null,
      "outputs": [
        {
          "output_type": "stream",
          "text": [
            "/usr/local/lib/python3.6/dist-packages/ipykernel_launcher.py:1: SettingWithCopyWarning: \n",
            "A value is trying to be set on a copy of a slice from a DataFrame.\n",
            "Try using .loc[row_indexer,col_indexer] = value instead\n",
            "\n",
            "See the caveats in the documentation: https://pandas.pydata.org/pandas-docs/stable/user_guide/indexing.html#returning-a-view-versus-a-copy\n",
            "  \"\"\"Entry point for launching an IPython kernel.\n"
          ],
          "name": "stderr"
        }
      ]
    },
    {
      "cell_type": "code",
      "metadata": {
        "id": "rxrbJr0XL0Pp",
        "outputId": "47f76458-b68e-4188-b89f-50617815a65c",
        "colab": {
          "base_uri": "https://localhost:8080/",
          "height": 450
        }
      },
      "source": [
        "GGAL_CCL"
      ],
      "execution_count": null,
      "outputs": [
        {
          "output_type": "execute_result",
          "data": {
            "text/html": [
              "<div>\n",
              "<style scoped>\n",
              "    .dataframe tbody tr th:only-of-type {\n",
              "        vertical-align: middle;\n",
              "    }\n",
              "\n",
              "    .dataframe tbody tr th {\n",
              "        vertical-align: top;\n",
              "    }\n",
              "\n",
              "    .dataframe thead th {\n",
              "        text-align: right;\n",
              "    }\n",
              "</style>\n",
              "<table border=\"1\" class=\"dataframe\">\n",
              "  <thead>\n",
              "    <tr style=\"text-align: right;\">\n",
              "      <th></th>\n",
              "      <th>GGAL</th>\n",
              "      <th>GGAL.BA</th>\n",
              "      <th>Dólar CCL</th>\n",
              "      <th>indice_tiempo</th>\n",
              "    </tr>\n",
              "    <tr>\n",
              "      <th>Date</th>\n",
              "      <th></th>\n",
              "      <th></th>\n",
              "      <th></th>\n",
              "      <th></th>\n",
              "    </tr>\n",
              "  </thead>\n",
              "  <tbody>\n",
              "    <tr>\n",
              "      <th>2003-01-02</th>\n",
              "      <td>1.952801</td>\n",
              "      <td>0.666931</td>\n",
              "      <td>3.415254</td>\n",
              "      <td>2003-01-02</td>\n",
              "    </tr>\n",
              "    <tr>\n",
              "      <th>2003-01-03</th>\n",
              "      <td>2.076637</td>\n",
              "      <td>0.702539</td>\n",
              "      <td>3.383061</td>\n",
              "      <td>2003-01-03</td>\n",
              "    </tr>\n",
              "    <tr>\n",
              "      <th>2003-01-06</th>\n",
              "      <td>2.400516</td>\n",
              "      <td>0.765094</td>\n",
              "      <td>3.187206</td>\n",
              "      <td>2003-01-06</td>\n",
              "    </tr>\n",
              "    <tr>\n",
              "      <th>2003-01-07</th>\n",
              "      <td>2.381465</td>\n",
              "      <td>0.765094</td>\n",
              "      <td>3.212703</td>\n",
              "      <td>2003-01-07</td>\n",
              "    </tr>\n",
              "    <tr>\n",
              "      <th>2003-01-08</th>\n",
              "      <td>2.381465</td>\n",
              "      <td>0.784342</td>\n",
              "      <td>3.293526</td>\n",
              "      <td>2003-01-08</td>\n",
              "    </tr>\n",
              "    <tr>\n",
              "      <th>...</th>\n",
              "      <td>...</td>\n",
              "      <td>...</td>\n",
              "      <td>...</td>\n",
              "      <td>...</td>\n",
              "    </tr>\n",
              "    <tr>\n",
              "      <th>2020-09-21</th>\n",
              "      <td>7.600000</td>\n",
              "      <td>105.699997</td>\n",
              "      <td>139.078945</td>\n",
              "      <td>2020-09-21</td>\n",
              "    </tr>\n",
              "    <tr>\n",
              "      <th>2020-09-22</th>\n",
              "      <td>7.250000</td>\n",
              "      <td>104.449997</td>\n",
              "      <td>144.068961</td>\n",
              "      <td>2020-09-22</td>\n",
              "    </tr>\n",
              "    <tr>\n",
              "      <th>2020-09-23</th>\n",
              "      <td>6.860000</td>\n",
              "      <td>103.199997</td>\n",
              "      <td>150.437310</td>\n",
              "      <td>2020-09-23</td>\n",
              "    </tr>\n",
              "    <tr>\n",
              "      <th>2020-09-24</th>\n",
              "      <td>7.630000</td>\n",
              "      <td>110.849998</td>\n",
              "      <td>145.281778</td>\n",
              "      <td>2020-09-24</td>\n",
              "    </tr>\n",
              "    <tr>\n",
              "      <th>2020-09-25</th>\n",
              "      <td>7.400000</td>\n",
              "      <td>107.500000</td>\n",
              "      <td>145.270268</td>\n",
              "      <td>2020-09-25</td>\n",
              "    </tr>\n",
              "  </tbody>\n",
              "</table>\n",
              "<p>4261 rows × 4 columns</p>\n",
              "</div>"
            ],
            "text/plain": [
              "                GGAL     GGAL.BA   Dólar CCL indice_tiempo\n",
              "Date                                                      \n",
              "2003-01-02  1.952801    0.666931    3.415254    2003-01-02\n",
              "2003-01-03  2.076637    0.702539    3.383061    2003-01-03\n",
              "2003-01-06  2.400516    0.765094    3.187206    2003-01-06\n",
              "2003-01-07  2.381465    0.765094    3.212703    2003-01-07\n",
              "2003-01-08  2.381465    0.784342    3.293526    2003-01-08\n",
              "...              ...         ...         ...           ...\n",
              "2020-09-21  7.600000  105.699997  139.078945    2020-09-21\n",
              "2020-09-22  7.250000  104.449997  144.068961    2020-09-22\n",
              "2020-09-23  6.860000  103.199997  150.437310    2020-09-23\n",
              "2020-09-24  7.630000  110.849998  145.281778    2020-09-24\n",
              "2020-09-25  7.400000  107.500000  145.270268    2020-09-25\n",
              "\n",
              "[4261 rows x 4 columns]"
            ]
          },
          "metadata": {
            "tags": []
          },
          "execution_count": 27
        }
      ]
    },
    {
      "cell_type": "code",
      "metadata": {
        "id": "YiBl46ZOQp_C",
        "outputId": "a998ff0f-8d6f-497f-c05f-035776a85392",
        "colab": {
          "base_uri": "https://localhost:8080/",
          "height": 674
        }
      },
      "source": [
        "GGAL_CCL.indice_tiempo = pd.to_datetime(GGAL_CCL.indice_tiempo) #### indicar que columna queremos transformar #####\n",
        "GGAL_CCL['year'] = GGAL_CCL.indice_tiempo.dt.year #creamos una nueva columna \"year\" con .dt.year sobre la col \"indice_tiempo\"\n",
        "mask = GGAL_CCL[\"year\"]>2003\n",
        "GGAL_CCL = GGAL_CCL[mask]\n",
        "GGAL_CCL"
      ],
      "execution_count": null,
      "outputs": [
        {
          "output_type": "stream",
          "text": [
            "/usr/local/lib/python3.6/dist-packages/pandas/core/generic.py:5303: SettingWithCopyWarning: \n",
            "A value is trying to be set on a copy of a slice from a DataFrame.\n",
            "Try using .loc[row_indexer,col_indexer] = value instead\n",
            "\n",
            "See the caveats in the documentation: https://pandas.pydata.org/pandas-docs/stable/user_guide/indexing.html#returning-a-view-versus-a-copy\n",
            "  self[name] = value\n",
            "/usr/local/lib/python3.6/dist-packages/ipykernel_launcher.py:2: SettingWithCopyWarning: \n",
            "A value is trying to be set on a copy of a slice from a DataFrame.\n",
            "Try using .loc[row_indexer,col_indexer] = value instead\n",
            "\n",
            "See the caveats in the documentation: https://pandas.pydata.org/pandas-docs/stable/user_guide/indexing.html#returning-a-view-versus-a-copy\n",
            "  \n"
          ],
          "name": "stderr"
        },
        {
          "output_type": "execute_result",
          "data": {
            "text/html": [
              "<div>\n",
              "<style scoped>\n",
              "    .dataframe tbody tr th:only-of-type {\n",
              "        vertical-align: middle;\n",
              "    }\n",
              "\n",
              "    .dataframe tbody tr th {\n",
              "        vertical-align: top;\n",
              "    }\n",
              "\n",
              "    .dataframe thead th {\n",
              "        text-align: right;\n",
              "    }\n",
              "</style>\n",
              "<table border=\"1\" class=\"dataframe\">\n",
              "  <thead>\n",
              "    <tr style=\"text-align: right;\">\n",
              "      <th></th>\n",
              "      <th>GGAL</th>\n",
              "      <th>GGAL.BA</th>\n",
              "      <th>Dólar CCL</th>\n",
              "      <th>indice_tiempo</th>\n",
              "      <th>year</th>\n",
              "    </tr>\n",
              "    <tr>\n",
              "      <th>Date</th>\n",
              "      <th></th>\n",
              "      <th></th>\n",
              "      <th></th>\n",
              "      <th></th>\n",
              "      <th></th>\n",
              "    </tr>\n",
              "  </thead>\n",
              "  <tbody>\n",
              "    <tr>\n",
              "      <th>2004-01-02</th>\n",
              "      <td>6.753832</td>\n",
              "      <td>2.021003</td>\n",
              "      <td>2.992379</td>\n",
              "      <td>2004-01-02</td>\n",
              "      <td>2004</td>\n",
              "    </tr>\n",
              "    <tr>\n",
              "      <th>2004-01-05</th>\n",
              "      <td>7.030083</td>\n",
              "      <td>2.021003</td>\n",
              "      <td>2.874792</td>\n",
              "      <td>2004-01-05</td>\n",
              "      <td>2004</td>\n",
              "    </tr>\n",
              "    <tr>\n",
              "      <th>2004-01-06</th>\n",
              "      <td>7.106289</td>\n",
              "      <td>2.069122</td>\n",
              "      <td>2.911677</td>\n",
              "      <td>2004-01-06</td>\n",
              "      <td>2004</td>\n",
              "    </tr>\n",
              "    <tr>\n",
              "      <th>2004-01-07</th>\n",
              "      <td>7.096763</td>\n",
              "      <td>2.059498</td>\n",
              "      <td>2.902025</td>\n",
              "      <td>2004-01-07</td>\n",
              "      <td>2004</td>\n",
              "    </tr>\n",
              "    <tr>\n",
              "      <th>2004-01-08</th>\n",
              "      <td>6.963401</td>\n",
              "      <td>2.059498</td>\n",
              "      <td>2.957604</td>\n",
              "      <td>2004-01-08</td>\n",
              "      <td>2004</td>\n",
              "    </tr>\n",
              "    <tr>\n",
              "      <th>...</th>\n",
              "      <td>...</td>\n",
              "      <td>...</td>\n",
              "      <td>...</td>\n",
              "      <td>...</td>\n",
              "      <td>...</td>\n",
              "    </tr>\n",
              "    <tr>\n",
              "      <th>2020-09-21</th>\n",
              "      <td>7.600000</td>\n",
              "      <td>105.699997</td>\n",
              "      <td>139.078945</td>\n",
              "      <td>2020-09-21</td>\n",
              "      <td>2020</td>\n",
              "    </tr>\n",
              "    <tr>\n",
              "      <th>2020-09-22</th>\n",
              "      <td>7.250000</td>\n",
              "      <td>104.449997</td>\n",
              "      <td>144.068961</td>\n",
              "      <td>2020-09-22</td>\n",
              "      <td>2020</td>\n",
              "    </tr>\n",
              "    <tr>\n",
              "      <th>2020-09-23</th>\n",
              "      <td>6.860000</td>\n",
              "      <td>103.199997</td>\n",
              "      <td>150.437310</td>\n",
              "      <td>2020-09-23</td>\n",
              "      <td>2020</td>\n",
              "    </tr>\n",
              "    <tr>\n",
              "      <th>2020-09-24</th>\n",
              "      <td>7.630000</td>\n",
              "      <td>110.849998</td>\n",
              "      <td>145.281778</td>\n",
              "      <td>2020-09-24</td>\n",
              "      <td>2020</td>\n",
              "    </tr>\n",
              "    <tr>\n",
              "      <th>2020-09-25</th>\n",
              "      <td>7.400000</td>\n",
              "      <td>107.500000</td>\n",
              "      <td>145.270268</td>\n",
              "      <td>2020-09-25</td>\n",
              "      <td>2020</td>\n",
              "    </tr>\n",
              "  </tbody>\n",
              "</table>\n",
              "<p>4009 rows × 5 columns</p>\n",
              "</div>"
            ],
            "text/plain": [
              "                GGAL     GGAL.BA   Dólar CCL indice_tiempo  year\n",
              "Date                                                            \n",
              "2004-01-02  6.753832    2.021003    2.992379    2004-01-02  2004\n",
              "2004-01-05  7.030083    2.021003    2.874792    2004-01-05  2004\n",
              "2004-01-06  7.106289    2.069122    2.911677    2004-01-06  2004\n",
              "2004-01-07  7.096763    2.059498    2.902025    2004-01-07  2004\n",
              "2004-01-08  6.963401    2.059498    2.957604    2004-01-08  2004\n",
              "...              ...         ...         ...           ...   ...\n",
              "2020-09-21  7.600000  105.699997  139.078945    2020-09-21  2020\n",
              "2020-09-22  7.250000  104.449997  144.068961    2020-09-22  2020\n",
              "2020-09-23  6.860000  103.199997  150.437310    2020-09-23  2020\n",
              "2020-09-24  7.630000  110.849998  145.281778    2020-09-24  2020\n",
              "2020-09-25  7.400000  107.500000  145.270268    2020-09-25  2020\n",
              "\n",
              "[4009 rows x 5 columns]"
            ]
          },
          "metadata": {
            "tags": []
          },
          "execution_count": 28
        }
      ]
    },
    {
      "cell_type": "code",
      "metadata": {
        "id": "bNpciSZ9ULsd",
        "outputId": "95e4fdf2-9039-4224-e9ea-2cded08910c6",
        "colab": {
          "base_uri": "https://localhost:8080/",
          "height": 34
        }
      },
      "source": [
        "GGAL_CCL.shape"
      ],
      "execution_count": null,
      "outputs": [
        {
          "output_type": "execute_result",
          "data": {
            "text/plain": [
              "(4009, 5)"
            ]
          },
          "metadata": {
            "tags": []
          },
          "execution_count": 29
        }
      ]
    },
    {
      "cell_type": "code",
      "metadata": {
        "id": "ReJISupqVVgc",
        "outputId": "41df9ae3-54b4-4c63-b251-73d0d1a76b54",
        "colab": {
          "base_uri": "https://localhost:8080/",
          "height": 419
        }
      },
      "source": [
        "merval_usd = merval.merge(GGAL_CCL, on=\"indice_tiempo\", how=\"inner\")\n",
        "merval_usd = merval_usd[[\"indice_tiempo\",\"merval\", \"GGAL\", \"Dólar CCL\"]]\n",
        "merval_usd[\"Merval_USD\"] = merval_usd[\"merval\"]/merval_usd[\"Dólar CCL\"]\n",
        "merval_usd"
      ],
      "execution_count": null,
      "outputs": [
        {
          "output_type": "execute_result",
          "data": {
            "text/html": [
              "<div>\n",
              "<style scoped>\n",
              "    .dataframe tbody tr th:only-of-type {\n",
              "        vertical-align: middle;\n",
              "    }\n",
              "\n",
              "    .dataframe tbody tr th {\n",
              "        vertical-align: top;\n",
              "    }\n",
              "\n",
              "    .dataframe thead th {\n",
              "        text-align: right;\n",
              "    }\n",
              "</style>\n",
              "<table border=\"1\" class=\"dataframe\">\n",
              "  <thead>\n",
              "    <tr style=\"text-align: right;\">\n",
              "      <th></th>\n",
              "      <th>indice_tiempo</th>\n",
              "      <th>merval</th>\n",
              "      <th>GGAL</th>\n",
              "      <th>Dólar CCL</th>\n",
              "      <th>Merval_USD</th>\n",
              "    </tr>\n",
              "  </thead>\n",
              "  <tbody>\n",
              "    <tr>\n",
              "      <th>0</th>\n",
              "      <td>2004-10-04</td>\n",
              "      <td>1167.09</td>\n",
              "      <td>6.591819</td>\n",
              "      <td>2.978328</td>\n",
              "      <td>391.860814</td>\n",
              "    </tr>\n",
              "    <tr>\n",
              "      <th>1</th>\n",
              "      <td>2004-10-05</td>\n",
              "      <td>1135.37</td>\n",
              "      <td>6.246899</td>\n",
              "      <td>3.034935</td>\n",
              "      <td>374.100277</td>\n",
              "    </tr>\n",
              "    <tr>\n",
              "      <th>2</th>\n",
              "      <td>2004-10-06</td>\n",
              "      <td>1128.00</td>\n",
              "      <td>6.371454</td>\n",
              "      <td>2.930292</td>\n",
              "      <td>384.944613</td>\n",
              "    </tr>\n",
              "    <tr>\n",
              "      <th>3</th>\n",
              "      <td>2004-10-07</td>\n",
              "      <td>1140.26</td>\n",
              "      <td>6.333129</td>\n",
              "      <td>3.008808</td>\n",
              "      <td>378.973982</td>\n",
              "    </tr>\n",
              "    <tr>\n",
              "      <th>4</th>\n",
              "      <td>2004-10-08</td>\n",
              "      <td>1128.74</td>\n",
              "      <td>6.285224</td>\n",
              "      <td>2.970494</td>\n",
              "      <td>379.983978</td>\n",
              "    </tr>\n",
              "    <tr>\n",
              "      <th>...</th>\n",
              "      <td>...</td>\n",
              "      <td>...</td>\n",
              "      <td>...</td>\n",
              "      <td>...</td>\n",
              "      <td>...</td>\n",
              "    </tr>\n",
              "    <tr>\n",
              "      <th>3777</th>\n",
              "      <td>2020-07-27</td>\n",
              "      <td>49449.86</td>\n",
              "      <td>12.770000</td>\n",
              "      <td>118.167571</td>\n",
              "      <td>418.472340</td>\n",
              "    </tr>\n",
              "    <tr>\n",
              "      <th>3778</th>\n",
              "      <td>2020-07-28</td>\n",
              "      <td>48934.44</td>\n",
              "      <td>12.220000</td>\n",
              "      <td>119.558104</td>\n",
              "      <td>409.294213</td>\n",
              "    </tr>\n",
              "    <tr>\n",
              "      <th>3779</th>\n",
              "      <td>2020-07-29</td>\n",
              "      <td>48884.46</td>\n",
              "      <td>12.320000</td>\n",
              "      <td>118.465910</td>\n",
              "      <td>412.645800</td>\n",
              "    </tr>\n",
              "    <tr>\n",
              "      <th>3780</th>\n",
              "      <td>2020-07-30</td>\n",
              "      <td>49405.75</td>\n",
              "      <td>12.120000</td>\n",
              "      <td>121.369643</td>\n",
              "      <td>407.068429</td>\n",
              "    </tr>\n",
              "    <tr>\n",
              "      <th>3781</th>\n",
              "      <td>2020-07-31</td>\n",
              "      <td>49253.62</td>\n",
              "      <td>12.000000</td>\n",
              "      <td>124.458338</td>\n",
              "      <td>395.743834</td>\n",
              "    </tr>\n",
              "  </tbody>\n",
              "</table>\n",
              "<p>3782 rows × 5 columns</p>\n",
              "</div>"
            ],
            "text/plain": [
              "     indice_tiempo    merval       GGAL   Dólar CCL  Merval_USD\n",
              "0       2004-10-04   1167.09   6.591819    2.978328  391.860814\n",
              "1       2004-10-05   1135.37   6.246899    3.034935  374.100277\n",
              "2       2004-10-06   1128.00   6.371454    2.930292  384.944613\n",
              "3       2004-10-07   1140.26   6.333129    3.008808  378.973982\n",
              "4       2004-10-08   1128.74   6.285224    2.970494  379.983978\n",
              "...            ...       ...        ...         ...         ...\n",
              "3777    2020-07-27  49449.86  12.770000  118.167571  418.472340\n",
              "3778    2020-07-28  48934.44  12.220000  119.558104  409.294213\n",
              "3779    2020-07-29  48884.46  12.320000  118.465910  412.645800\n",
              "3780    2020-07-30  49405.75  12.120000  121.369643  407.068429\n",
              "3781    2020-07-31  49253.62  12.000000  124.458338  395.743834\n",
              "\n",
              "[3782 rows x 5 columns]"
            ]
          },
          "metadata": {
            "tags": []
          },
          "execution_count": 30
        }
      ]
    },
    {
      "cell_type": "code",
      "metadata": {
        "id": "XUeFjAB0VzME",
        "outputId": "5251984f-5cc6-401f-aec7-cf3d03eb2605",
        "colab": {
          "base_uri": "https://localhost:8080/",
          "height": 173
        }
      },
      "source": [
        "merval_usd.corr = merval_usd.corr()\n",
        "merval_usd.corr"
      ],
      "execution_count": null,
      "outputs": [
        {
          "output_type": "execute_result",
          "data": {
            "text/html": [
              "<div>\n",
              "<style scoped>\n",
              "    .dataframe tbody tr th:only-of-type {\n",
              "        vertical-align: middle;\n",
              "    }\n",
              "\n",
              "    .dataframe tbody tr th {\n",
              "        vertical-align: top;\n",
              "    }\n",
              "\n",
              "    .dataframe thead th {\n",
              "        text-align: right;\n",
              "    }\n",
              "</style>\n",
              "<table border=\"1\" class=\"dataframe\">\n",
              "  <thead>\n",
              "    <tr style=\"text-align: right;\">\n",
              "      <th></th>\n",
              "      <th>merval</th>\n",
              "      <th>GGAL</th>\n",
              "      <th>Dólar CCL</th>\n",
              "      <th>Merval_USD</th>\n",
              "    </tr>\n",
              "  </thead>\n",
              "  <tbody>\n",
              "    <tr>\n",
              "      <th>merval</th>\n",
              "      <td>1.000000</td>\n",
              "      <td>0.689575</td>\n",
              "      <td>0.826707</td>\n",
              "      <td>0.482602</td>\n",
              "    </tr>\n",
              "    <tr>\n",
              "      <th>GGAL</th>\n",
              "      <td>0.689575</td>\n",
              "      <td>1.000000</td>\n",
              "      <td>0.229110</td>\n",
              "      <td>0.926326</td>\n",
              "    </tr>\n",
              "    <tr>\n",
              "      <th>Dólar CCL</th>\n",
              "      <td>0.826707</td>\n",
              "      <td>0.229110</td>\n",
              "      <td>1.000000</td>\n",
              "      <td>-0.000730</td>\n",
              "    </tr>\n",
              "    <tr>\n",
              "      <th>Merval_USD</th>\n",
              "      <td>0.482602</td>\n",
              "      <td>0.926326</td>\n",
              "      <td>-0.000730</td>\n",
              "      <td>1.000000</td>\n",
              "    </tr>\n",
              "  </tbody>\n",
              "</table>\n",
              "</div>"
            ],
            "text/plain": [
              "              merval      GGAL  Dólar CCL  Merval_USD\n",
              "merval      1.000000  0.689575   0.826707    0.482602\n",
              "GGAL        0.689575  1.000000   0.229110    0.926326\n",
              "Dólar CCL   0.826707  0.229110   1.000000   -0.000730\n",
              "Merval_USD  0.482602  0.926326  -0.000730    1.000000"
            ]
          },
          "metadata": {
            "tags": []
          },
          "execution_count": 31
        }
      ]
    },
    {
      "cell_type": "code",
      "metadata": {
        "id": "i-OiT0aEWeRO",
        "outputId": "213aba98-06fc-465c-bd7e-4f356ec2c308",
        "colab": {
          "base_uri": "https://localhost:8080/",
          "height": 339
        }
      },
      "source": [
        "merval_usd.corr = sns.heatmap(merval_usd.corr, xticklabels=1, yticklabels=1)\n",
        "merval_usd.corr.set_xticklabels(merval_usd.corr.get_xticklabels(), rotation=40, ha=\"right\")\n",
        "plt.title(\"Correlación Merval - GGAL - Dólar - MERVAL\")\n",
        "plt.show()"
      ],
      "execution_count": null,
      "outputs": [
        {
          "output_type": "display_data",
          "data": {
            "image/png": "[encoded data removed]",
            "text/plain": [
              "<Figure size 432x288 with 2 Axes>"
            ]
          },
          "metadata": {
            "tags": [],
            "needs_background": "light"
          }
        }
      ]
    },
    {
      "cell_type": "code",
      "metadata": {
        "id": "k_jdNoF3XjhE",
        "outputId": "de8b1bb9-504b-4354-eaed-101269f80888",
        "colab": {
          "base_uri": "https://localhost:8080/",
          "height": 419
        }
      },
      "source": [
        "merval_usd.dropna()"
      ],
      "execution_count": null,
      "outputs": [
        {
          "output_type": "execute_result",
          "data": {
            "text/html": [
              "<div>\n",
              "<style scoped>\n",
              "    .dataframe tbody tr th:only-of-type {\n",
              "        vertical-align: middle;\n",
              "    }\n",
              "\n",
              "    .dataframe tbody tr th {\n",
              "        vertical-align: top;\n",
              "    }\n",
              "\n",
              "    .dataframe thead th {\n",
              "        text-align: right;\n",
              "    }\n",
              "</style>\n",
              "<table border=\"1\" class=\"dataframe\">\n",
              "  <thead>\n",
              "    <tr style=\"text-align: right;\">\n",
              "      <th></th>\n",
              "      <th>indice_tiempo</th>\n",
              "      <th>merval</th>\n",
              "      <th>GGAL</th>\n",
              "      <th>Dólar CCL</th>\n",
              "      <th>Merval_USD</th>\n",
              "    </tr>\n",
              "  </thead>\n",
              "  <tbody>\n",
              "    <tr>\n",
              "      <th>0</th>\n",
              "      <td>2004-10-04</td>\n",
              "      <td>1167.09</td>\n",
              "      <td>6.591819</td>\n",
              "      <td>2.978328</td>\n",
              "      <td>391.860814</td>\n",
              "    </tr>\n",
              "    <tr>\n",
              "      <th>1</th>\n",
              "      <td>2004-10-05</td>\n",
              "      <td>1135.37</td>\n",
              "      <td>6.246899</td>\n",
              "      <td>3.034935</td>\n",
              "      <td>374.100277</td>\n",
              "    </tr>\n",
              "    <tr>\n",
              "      <th>2</th>\n",
              "      <td>2004-10-06</td>\n",
              "      <td>1128.00</td>\n",
              "      <td>6.371454</td>\n",
              "      <td>2.930292</td>\n",
              "      <td>384.944613</td>\n",
              "    </tr>\n",
              "    <tr>\n",
              "      <th>3</th>\n",
              "      <td>2004-10-07</td>\n",
              "      <td>1140.26</td>\n",
              "      <td>6.333129</td>\n",
              "      <td>3.008808</td>\n",
              "      <td>378.973982</td>\n",
              "    </tr>\n",
              "    <tr>\n",
              "      <th>4</th>\n",
              "      <td>2004-10-08</td>\n",
              "      <td>1128.74</td>\n",
              "      <td>6.285224</td>\n",
              "      <td>2.970494</td>\n",
              "      <td>379.983978</td>\n",
              "    </tr>\n",
              "    <tr>\n",
              "      <th>...</th>\n",
              "      <td>...</td>\n",
              "      <td>...</td>\n",
              "      <td>...</td>\n",
              "      <td>...</td>\n",
              "      <td>...</td>\n",
              "    </tr>\n",
              "    <tr>\n",
              "      <th>3777</th>\n",
              "      <td>2020-07-27</td>\n",
              "      <td>49449.86</td>\n",
              "      <td>12.770000</td>\n",
              "      <td>118.167571</td>\n",
              "      <td>418.472340</td>\n",
              "    </tr>\n",
              "    <tr>\n",
              "      <th>3778</th>\n",
              "      <td>2020-07-28</td>\n",
              "      <td>48934.44</td>\n",
              "      <td>12.220000</td>\n",
              "      <td>119.558104</td>\n",
              "      <td>409.294213</td>\n",
              "    </tr>\n",
              "    <tr>\n",
              "      <th>3779</th>\n",
              "      <td>2020-07-29</td>\n",
              "      <td>48884.46</td>\n",
              "      <td>12.320000</td>\n",
              "      <td>118.465910</td>\n",
              "      <td>412.645800</td>\n",
              "    </tr>\n",
              "    <tr>\n",
              "      <th>3780</th>\n",
              "      <td>2020-07-30</td>\n",
              "      <td>49405.75</td>\n",
              "      <td>12.120000</td>\n",
              "      <td>121.369643</td>\n",
              "      <td>407.068429</td>\n",
              "    </tr>\n",
              "    <tr>\n",
              "      <th>3781</th>\n",
              "      <td>2020-07-31</td>\n",
              "      <td>49253.62</td>\n",
              "      <td>12.000000</td>\n",
              "      <td>124.458338</td>\n",
              "      <td>395.743834</td>\n",
              "    </tr>\n",
              "  </tbody>\n",
              "</table>\n",
              "<p>3743 rows × 5 columns</p>\n",
              "</div>"
            ],
            "text/plain": [
              "     indice_tiempo    merval       GGAL   Dólar CCL  Merval_USD\n",
              "0       2004-10-04   1167.09   6.591819    2.978328  391.860814\n",
              "1       2004-10-05   1135.37   6.246899    3.034935  374.100277\n",
              "2       2004-10-06   1128.00   6.371454    2.930292  384.944613\n",
              "3       2004-10-07   1140.26   6.333129    3.008808  378.973982\n",
              "4       2004-10-08   1128.74   6.285224    2.970494  379.983978\n",
              "...            ...       ...        ...         ...         ...\n",
              "3777    2020-07-27  49449.86  12.770000  118.167571  418.472340\n",
              "3778    2020-07-28  48934.44  12.220000  119.558104  409.294213\n",
              "3779    2020-07-29  48884.46  12.320000  118.465910  412.645800\n",
              "3780    2020-07-30  49405.75  12.120000  121.369643  407.068429\n",
              "3781    2020-07-31  49253.62  12.000000  124.458338  395.743834\n",
              "\n",
              "[3743 rows x 5 columns]"
            ]
          },
          "metadata": {
            "tags": []
          },
          "execution_count": 33
        }
      ]
    },
    {
      "cell_type": "code",
      "metadata": {
        "id": "5o2OsjpWWt0S",
        "outputId": "1fd9cddc-7d6e-4f91-c038-d7f619282b4a",
        "colab": {
          "base_uri": "https://localhost:8080/",
          "height": 488
        }
      },
      "source": [
        "fig, ax = plt.subplots(figsize=(16,8))\n",
        "\n",
        "x = merval_usd[\"indice_tiempo\"]\n",
        "y = merval_usd[\"Merval_USD\"]\n",
        "ax.set_xtickslabels(x)\n",
        "sns.barplot(x, y, palette=\"inferno\")\n",
        "ax.set_xlabel(\"Tiempo\", fontsize=10)\n",
        "plt.title(\"Merval in USD - Argentina Stock Index\")\n",
        "plt.plot()"
      ],
      "execution_count": null,
      "outputs": [
        {
          "output_type": "execute_result",
          "data": {
            "text/plain": [
              "[]"
            ]
          },
          "metadata": {
            "tags": []
          },
          "execution_count": 40
        },
        {
          "output_type": "display_data",
          "data": {
            "image/png": "[encoded data removed]",
            "text/plain": [
              "<Figure size 1152x576 with 1 Axes>"
            ]
          },
          "metadata": {
            "tags": [],
            "needs_background": "light"
          }
        }
      ]
    },
    {
      "cell_type": "code",
      "metadata": {
        "id": "NTyCkYQjM5E8"
      },
      "source": [
        ""
      ],
      "execution_count": null,
      "outputs": []
    }
  ]
}