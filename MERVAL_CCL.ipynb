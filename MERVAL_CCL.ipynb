{
 "cells": [
  {
   "cell_type": "code",
   "execution_count": 14,
   "metadata": {},
   "outputs": [],
   "source": [
    "import pandas as pd\n",
    "import numpy as np\n",
    "import matplotlib.pyplot as plt\n",
    "import pandas_datareader as wb\n"
   ]
  },
  {
   "cell_type": "code",
   "execution_count": 18,
   "metadata": {},
   "outputs": [],
   "source": [
    "tickers=[\"GGAL\", \"GGAL.BA\"]\n",
    "CCL_data = pd.DataFrame()\n",
    "for t in tickers:\n",
    "    CCL_data[t]= wb.DataReader(t, data_source=\"yahoo\", start=\"01-01-2003\")[(\"Adj Close\")]"
   ]
  },
  {
   "cell_type": "code",
   "execution_count": 21,
   "metadata": {},
   "outputs": [
    {
     "data": {
      "text/html": [
       "<div>\n",
       "<style scoped>\n",
       "    .dataframe tbody tr th:only-of-type {\n",
       "        vertical-align: middle;\n",
       "    }\n",
       "\n",
       "    .dataframe tbody tr th {\n",
       "        vertical-align: top;\n",
       "    }\n",
       "\n",
       "    .dataframe thead th {\n",
       "        text-align: right;\n",
       "    }\n",
       "</style>\n",
       "<table border=\"1\" class=\"dataframe\">\n",
       "  <thead>\n",
       "    <tr style=\"text-align: right;\">\n",
       "      <th></th>\n",
       "      <th>GGAL</th>\n",
       "      <th>GGAL.BA</th>\n",
       "    </tr>\n",
       "    <tr>\n",
       "      <th>Date</th>\n",
       "      <th></th>\n",
       "      <th></th>\n",
       "    </tr>\n",
       "  </thead>\n",
       "  <tbody>\n",
       "    <tr>\n",
       "      <th>2003-01-02</th>\n",
       "      <td>1.952801</td>\n",
       "      <td>0.666931</td>\n",
       "    </tr>\n",
       "    <tr>\n",
       "      <th>2003-01-03</th>\n",
       "      <td>2.076637</td>\n",
       "      <td>0.702539</td>\n",
       "    </tr>\n",
       "    <tr>\n",
       "      <th>2003-01-06</th>\n",
       "      <td>2.400516</td>\n",
       "      <td>0.765094</td>\n",
       "    </tr>\n",
       "    <tr>\n",
       "      <th>2003-01-07</th>\n",
       "      <td>2.381465</td>\n",
       "      <td>0.765094</td>\n",
       "    </tr>\n",
       "    <tr>\n",
       "      <th>2003-01-08</th>\n",
       "      <td>2.381465</td>\n",
       "      <td>0.784342</td>\n",
       "    </tr>\n",
       "    <tr>\n",
       "      <th>...</th>\n",
       "      <td>...</td>\n",
       "      <td>...</td>\n",
       "    </tr>\n",
       "    <tr>\n",
       "      <th>2020-06-15</th>\n",
       "      <td>10.430000</td>\n",
       "      <td>NaN</td>\n",
       "    </tr>\n",
       "    <tr>\n",
       "      <th>2020-06-16</th>\n",
       "      <td>10.390000</td>\n",
       "      <td>116.849998</td>\n",
       "    </tr>\n",
       "    <tr>\n",
       "      <th>2020-06-17</th>\n",
       "      <td>10.060000</td>\n",
       "      <td>109.949997</td>\n",
       "    </tr>\n",
       "    <tr>\n",
       "      <th>2020-06-18</th>\n",
       "      <td>9.330000</td>\n",
       "      <td>102.400002</td>\n",
       "    </tr>\n",
       "    <tr>\n",
       "      <th>2020-06-19</th>\n",
       "      <td>10.220000</td>\n",
       "      <td>113.949997</td>\n",
       "    </tr>\n",
       "  </tbody>\n",
       "</table>\n",
       "<p>4397 rows × 2 columns</p>\n",
       "</div>"
      ],
      "text/plain": [
       "                 GGAL     GGAL.BA\n",
       "Date                             \n",
       "2003-01-02   1.952801    0.666931\n",
       "2003-01-03   2.076637    0.702539\n",
       "2003-01-06   2.400516    0.765094\n",
       "2003-01-07   2.381465    0.765094\n",
       "2003-01-08   2.381465    0.784342\n",
       "...               ...         ...\n",
       "2020-06-15  10.430000         NaN\n",
       "2020-06-16  10.390000  116.849998\n",
       "2020-06-17  10.060000  109.949997\n",
       "2020-06-18   9.330000  102.400002\n",
       "2020-06-19  10.220000  113.949997\n",
       "\n",
       "[4397 rows x 2 columns]"
      ]
     },
     "execution_count": 21,
     "metadata": {},
     "output_type": "execute_result"
    }
   ],
   "source": [
    "CCL_data"
   ]
  },
  {
   "cell_type": "code",
   "execution_count": 22,
   "metadata": {},
   "outputs": [
    {
     "data": {
      "text/html": [
       "<div>\n",
       "<style scoped>\n",
       "    .dataframe tbody tr th:only-of-type {\n",
       "        vertical-align: middle;\n",
       "    }\n",
       "\n",
       "    .dataframe tbody tr th {\n",
       "        vertical-align: top;\n",
       "    }\n",
       "\n",
       "    .dataframe thead th {\n",
       "        text-align: right;\n",
       "    }\n",
       "</style>\n",
       "<table border=\"1\" class=\"dataframe\">\n",
       "  <thead>\n",
       "    <tr style=\"text-align: right;\">\n",
       "      <th></th>\n",
       "      <th>GGAL</th>\n",
       "      <th>GGAL.BA</th>\n",
       "    </tr>\n",
       "  </thead>\n",
       "  <tbody>\n",
       "    <tr>\n",
       "      <th>count</th>\n",
       "      <td>4397.000000</td>\n",
       "      <td>4196.000000</td>\n",
       "    </tr>\n",
       "    <tr>\n",
       "      <th>mean</th>\n",
       "      <td>14.225131</td>\n",
       "      <td>25.517661</td>\n",
       "    </tr>\n",
       "    <tr>\n",
       "      <th>std</th>\n",
       "      <td>13.400383</td>\n",
       "      <td>38.852344</td>\n",
       "    </tr>\n",
       "    <tr>\n",
       "      <th>min</th>\n",
       "      <td>1.389264</td>\n",
       "      <td>0.550483</td>\n",
       "    </tr>\n",
       "    <tr>\n",
       "      <th>25%</th>\n",
       "      <td>5.662449</td>\n",
       "      <td>2.097993</td>\n",
       "    </tr>\n",
       "    <tr>\n",
       "      <th>50%</th>\n",
       "      <td>8.134383</td>\n",
       "      <td>3.399227</td>\n",
       "    </tr>\n",
       "    <tr>\n",
       "      <th>75%</th>\n",
       "      <td>18.399471</td>\n",
       "      <td>36.598238</td>\n",
       "    </tr>\n",
       "    <tr>\n",
       "      <th>max</th>\n",
       "      <td>71.444939</td>\n",
       "      <td>174.550003</td>\n",
       "    </tr>\n",
       "  </tbody>\n",
       "</table>\n",
       "</div>"
      ],
      "text/plain": [
       "              GGAL      GGAL.BA\n",
       "count  4397.000000  4196.000000\n",
       "mean     14.225131    25.517661\n",
       "std      13.400383    38.852344\n",
       "min       1.389264     0.550483\n",
       "25%       5.662449     2.097993\n",
       "50%       8.134383     3.399227\n",
       "75%      18.399471    36.598238\n",
       "max      71.444939   174.550003"
      ]
     },
     "execution_count": 22,
     "metadata": {},
     "output_type": "execute_result"
    }
   ],
   "source": [
    "CCL_data.describe()"
   ]
  },
  {
   "cell_type": "code",
   "execution_count": 25,
   "metadata": {},
   "outputs": [],
   "source": [
    "CCL_data[\"CCL\"] = ((CCL_data[\"GGAL.BA\"]*10)/(CCL_data[\"GGAL\"]))"
   ]
  },
  {
   "cell_type": "code",
   "execution_count": 26,
   "metadata": {
    "scrolled": true
   },
   "outputs": [
    {
     "data": {
      "text/html": [
       "<div>\n",
       "<style scoped>\n",
       "    .dataframe tbody tr th:only-of-type {\n",
       "        vertical-align: middle;\n",
       "    }\n",
       "\n",
       "    .dataframe tbody tr th {\n",
       "        vertical-align: top;\n",
       "    }\n",
       "\n",
       "    .dataframe thead th {\n",
       "        text-align: right;\n",
       "    }\n",
       "</style>\n",
       "<table border=\"1\" class=\"dataframe\">\n",
       "  <thead>\n",
       "    <tr style=\"text-align: right;\">\n",
       "      <th></th>\n",
       "      <th>GGAL</th>\n",
       "      <th>GGAL.BA</th>\n",
       "      <th>CCL</th>\n",
       "    </tr>\n",
       "    <tr>\n",
       "      <th>Date</th>\n",
       "      <th></th>\n",
       "      <th></th>\n",
       "      <th></th>\n",
       "    </tr>\n",
       "  </thead>\n",
       "  <tbody>\n",
       "    <tr>\n",
       "      <th>2003-01-02</th>\n",
       "      <td>1.952801</td>\n",
       "      <td>0.666931</td>\n",
       "      <td>3.415254</td>\n",
       "    </tr>\n",
       "    <tr>\n",
       "      <th>2003-01-03</th>\n",
       "      <td>2.076637</td>\n",
       "      <td>0.702539</td>\n",
       "      <td>3.383061</td>\n",
       "    </tr>\n",
       "    <tr>\n",
       "      <th>2003-01-06</th>\n",
       "      <td>2.400516</td>\n",
       "      <td>0.765094</td>\n",
       "      <td>3.187206</td>\n",
       "    </tr>\n",
       "    <tr>\n",
       "      <th>2003-01-07</th>\n",
       "      <td>2.381465</td>\n",
       "      <td>0.765094</td>\n",
       "      <td>3.212703</td>\n",
       "    </tr>\n",
       "    <tr>\n",
       "      <th>2003-01-08</th>\n",
       "      <td>2.381465</td>\n",
       "      <td>0.784342</td>\n",
       "      <td>3.293526</td>\n",
       "    </tr>\n",
       "    <tr>\n",
       "      <th>...</th>\n",
       "      <td>...</td>\n",
       "      <td>...</td>\n",
       "      <td>...</td>\n",
       "    </tr>\n",
       "    <tr>\n",
       "      <th>2020-06-15</th>\n",
       "      <td>10.430000</td>\n",
       "      <td>NaN</td>\n",
       "      <td>NaN</td>\n",
       "    </tr>\n",
       "    <tr>\n",
       "      <th>2020-06-16</th>\n",
       "      <td>10.390000</td>\n",
       "      <td>116.849998</td>\n",
       "      <td>112.463902</td>\n",
       "    </tr>\n",
       "    <tr>\n",
       "      <th>2020-06-17</th>\n",
       "      <td>10.060000</td>\n",
       "      <td>109.949997</td>\n",
       "      <td>109.294227</td>\n",
       "    </tr>\n",
       "    <tr>\n",
       "      <th>2020-06-18</th>\n",
       "      <td>9.330000</td>\n",
       "      <td>102.400002</td>\n",
       "      <td>109.753486</td>\n",
       "    </tr>\n",
       "    <tr>\n",
       "      <th>2020-06-19</th>\n",
       "      <td>10.220000</td>\n",
       "      <td>113.949997</td>\n",
       "      <td>111.497059</td>\n",
       "    </tr>\n",
       "  </tbody>\n",
       "</table>\n",
       "<p>4397 rows × 3 columns</p>\n",
       "</div>"
      ],
      "text/plain": [
       "                 GGAL     GGAL.BA         CCL\n",
       "Date                                         \n",
       "2003-01-02   1.952801    0.666931    3.415254\n",
       "2003-01-03   2.076637    0.702539    3.383061\n",
       "2003-01-06   2.400516    0.765094    3.187206\n",
       "2003-01-07   2.381465    0.765094    3.212703\n",
       "2003-01-08   2.381465    0.784342    3.293526\n",
       "...               ...         ...         ...\n",
       "2020-06-15  10.430000         NaN         NaN\n",
       "2020-06-16  10.390000  116.849998  112.463902\n",
       "2020-06-17  10.060000  109.949997  109.294227\n",
       "2020-06-18   9.330000  102.400002  109.753486\n",
       "2020-06-19  10.220000  113.949997  111.497059\n",
       "\n",
       "[4397 rows x 3 columns]"
      ]
     },
     "execution_count": 26,
     "metadata": {},
     "output_type": "execute_result"
    }
   ],
   "source": [
    "CCL_data"
   ]
  },
  {
   "cell_type": "code",
   "execution_count": 27,
   "metadata": {
    "scrolled": true
   },
   "outputs": [
    {
     "data": {
      "text/plain": [
       "count    4196.000000\n",
       "mean       12.887042\n",
       "std        19.131045\n",
       "min         2.667486\n",
       "25%         3.107535\n",
       "50%         4.443323\n",
       "75%        14.196918\n",
       "max       125.788149\n",
       "Name: CCL, dtype: float64"
      ]
     },
     "execution_count": 27,
     "metadata": {},
     "output_type": "execute_result"
    }
   ],
   "source": [
    "CCL_data[\"CCL\"].describe()"
   ]
  },
  {
   "cell_type": "markdown",
   "metadata": {},
   "source": [
    "## CCL ARS/USD"
   ]
  },
  {
   "cell_type": "code",
   "execution_count": 31,
   "metadata": {
    "scrolled": false
   },
   "outputs": [
    {
     "data": {
      "text/plain": [
       "[]"
      ]
     },
     "execution_count": 31,
     "metadata": {},
     "output_type": "execute_result"
    },
    {
     "data": {
      "image/png": "[encoded data removed]",
      "text/plain": [
       "<Figure size 1440x720 with 1 Axes>"
      ]
     },
     "metadata": {
      "needs_background": "light"
     },
     "output_type": "display_data"
    }
   ],
   "source": [
    "CCL_data[\"CCL\"].plot(figsize=(20,10))\n",
    "plt.title(\"DÓLAR CCL\")\n",
    "plt.ylabel(\"Pesos ARS\")\n",
    "plt.plot(label=\"Fecha\")"
   ]
  },
  {
   "cell_type": "code",
   "execution_count": null,
   "metadata": {},
   "outputs": [],
   "source": []
  }
 ],
 "metadata": {
  "kernelspec": {
   "display_name": "Python 3",
   "language": "python",
   "name": "python3"
  },
  "language_info": {
   "codemirror_mode": {
    "name": "ipython",
    "version": 3
   },
   "file_extension": ".py",
   "mimetype": "text/x-python",
   "name": "python",
   "nbconvert_exporter": "python",
   "pygments_lexer": "ipython3",
   "version": "3.7.6"
  }
 },
 "nbformat": 4,
 "nbformat_minor": 4
}
