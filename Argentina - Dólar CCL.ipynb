{
 "cells": [
  {
   "cell_type": "code",
   "execution_count": 33,
   "metadata": {},
   "outputs": [],
   "source": [
    "import pandas as pd\n",
    "import numpy as np\n",
    "import matplotlib.pyplot as plt\n",
    "import pandas_datareader as wb\n"
   ]
  },
  {
   "cell_type": "code",
   "execution_count": 34,
   "metadata": {},
   "outputs": [],
   "source": [
    "#review of Grupo Financiero Galicia ($GGAL)\n",
    "\n",
    "tickers=[\"GGAL\", \"GGAL.BA\"]\n",
    "CCL_data = pd.DataFrame()\n",
    "for t in tickers:\n",
    "    CCL_data[t]= wb.DataReader(t, data_source=\"yahoo\", start=\"01-01-2003\")[(\"Adj Close\")]"
   ]
  },
  {
   "cell_type": "code",
   "execution_count": 36,
   "metadata": {},
   "outputs": [
    {
     "data": {
      "text/html": [
       "<div>\n",
       "<style scoped>\n",
       "    .dataframe tbody tr th:only-of-type {\n",
       "        vertical-align: middle;\n",
       "    }\n",
       "\n",
       "    .dataframe tbody tr th {\n",
       "        vertical-align: top;\n",
       "    }\n",
       "\n",
       "    .dataframe thead th {\n",
       "        text-align: right;\n",
       "    }\n",
       "</style>\n",
       "<table border=\"1\" class=\"dataframe\">\n",
       "  <thead>\n",
       "    <tr style=\"text-align: right;\">\n",
       "      <th></th>\n",
       "      <th>GGAL</th>\n",
       "      <th>GGAL.BA</th>\n",
       "    </tr>\n",
       "    <tr>\n",
       "      <th>Date</th>\n",
       "      <th></th>\n",
       "      <th></th>\n",
       "    </tr>\n",
       "  </thead>\n",
       "  <tbody>\n",
       "    <tr>\n",
       "      <th>2003-01-02</th>\n",
       "      <td>1.952801</td>\n",
       "      <td>0.666931</td>\n",
       "    </tr>\n",
       "    <tr>\n",
       "      <th>2003-01-03</th>\n",
       "      <td>2.076637</td>\n",
       "      <td>0.702539</td>\n",
       "    </tr>\n",
       "    <tr>\n",
       "      <th>2003-01-06</th>\n",
       "      <td>2.400516</td>\n",
       "      <td>0.765094</td>\n",
       "    </tr>\n",
       "    <tr>\n",
       "      <th>2003-01-07</th>\n",
       "      <td>2.381465</td>\n",
       "      <td>0.765094</td>\n",
       "    </tr>\n",
       "    <tr>\n",
       "      <th>2003-01-08</th>\n",
       "      <td>2.381465</td>\n",
       "      <td>0.784342</td>\n",
       "    </tr>\n",
       "    <tr>\n",
       "      <th>...</th>\n",
       "      <td>...</td>\n",
       "      <td>...</td>\n",
       "    </tr>\n",
       "    <tr>\n",
       "      <th>2020-06-24</th>\n",
       "      <td>10.040000</td>\n",
       "      <td>110.500000</td>\n",
       "    </tr>\n",
       "    <tr>\n",
       "      <th>2020-06-25</th>\n",
       "      <td>10.670000</td>\n",
       "      <td>116.250000</td>\n",
       "    </tr>\n",
       "    <tr>\n",
       "      <th>2020-06-26</th>\n",
       "      <td>10.210000</td>\n",
       "      <td>110.400002</td>\n",
       "    </tr>\n",
       "    <tr>\n",
       "      <th>2020-06-29</th>\n",
       "      <td>10.330000</td>\n",
       "      <td>109.800003</td>\n",
       "    </tr>\n",
       "    <tr>\n",
       "      <th>2020-06-30</th>\n",
       "      <td>9.970000</td>\n",
       "      <td>NaN</td>\n",
       "    </tr>\n",
       "  </tbody>\n",
       "</table>\n",
       "<p>4404 rows × 2 columns</p>\n",
       "</div>"
      ],
      "text/plain": [
       "                 GGAL     GGAL.BA\n",
       "Date                             \n",
       "2003-01-02   1.952801    0.666931\n",
       "2003-01-03   2.076637    0.702539\n",
       "2003-01-06   2.400516    0.765094\n",
       "2003-01-07   2.381465    0.765094\n",
       "2003-01-08   2.381465    0.784342\n",
       "...               ...         ...\n",
       "2020-06-24  10.040000  110.500000\n",
       "2020-06-25  10.670000  116.250000\n",
       "2020-06-26  10.210000  110.400002\n",
       "2020-06-29  10.330000  109.800003\n",
       "2020-06-30   9.970000         NaN\n",
       "\n",
       "[4404 rows x 2 columns]"
      ]
     },
     "execution_count": 36,
     "metadata": {},
     "output_type": "execute_result"
    }
   ],
   "source": [
    "#Dataframe\n",
    "\n",
    "CCL_data"
   ]
  },
  {
   "cell_type": "code",
   "execution_count": 44,
   "metadata": {},
   "outputs": [],
   "source": [
    "GGAL_CCL = CCL_data.dropna()"
   ]
  },
  {
   "cell_type": "code",
   "execution_count": 45,
   "metadata": {},
   "outputs": [
    {
     "data": {
      "text/html": [
       "<div>\n",
       "<style scoped>\n",
       "    .dataframe tbody tr th:only-of-type {\n",
       "        vertical-align: middle;\n",
       "    }\n",
       "\n",
       "    .dataframe tbody tr th {\n",
       "        vertical-align: top;\n",
       "    }\n",
       "\n",
       "    .dataframe thead th {\n",
       "        text-align: right;\n",
       "    }\n",
       "</style>\n",
       "<table border=\"1\" class=\"dataframe\">\n",
       "  <thead>\n",
       "    <tr style=\"text-align: right;\">\n",
       "      <th></th>\n",
       "      <th>GGAL</th>\n",
       "      <th>GGAL.BA</th>\n",
       "      <th>Dólar CCL</th>\n",
       "    </tr>\n",
       "  </thead>\n",
       "  <tbody>\n",
       "    <tr>\n",
       "      <th>count</th>\n",
       "      <td>4202.000000</td>\n",
       "      <td>4202.000000</td>\n",
       "      <td>4202.000000</td>\n",
       "    </tr>\n",
       "    <tr>\n",
       "      <th>mean</th>\n",
       "      <td>14.074543</td>\n",
       "      <td>25.640470</td>\n",
       "      <td>13.024448</td>\n",
       "    </tr>\n",
       "    <tr>\n",
       "      <th>std</th>\n",
       "      <td>13.303909</td>\n",
       "      <td>38.960298</td>\n",
       "      <td>19.459834</td>\n",
       "    </tr>\n",
       "    <tr>\n",
       "      <th>min</th>\n",
       "      <td>1.389264</td>\n",
       "      <td>0.550483</td>\n",
       "      <td>2.667486</td>\n",
       "    </tr>\n",
       "    <tr>\n",
       "      <th>25%</th>\n",
       "      <td>5.643287</td>\n",
       "      <td>2.097993</td>\n",
       "      <td>3.107777</td>\n",
       "    </tr>\n",
       "    <tr>\n",
       "      <th>50%</th>\n",
       "      <td>8.082202</td>\n",
       "      <td>3.413712</td>\n",
       "      <td>4.449153</td>\n",
       "    </tr>\n",
       "    <tr>\n",
       "      <th>75%</th>\n",
       "      <td>17.775762</td>\n",
       "      <td>36.736938</td>\n",
       "      <td>14.224320</td>\n",
       "    </tr>\n",
       "    <tr>\n",
       "      <th>max</th>\n",
       "      <td>71.444939</td>\n",
       "      <td>174.550003</td>\n",
       "      <td>125.788149</td>\n",
       "    </tr>\n",
       "  </tbody>\n",
       "</table>\n",
       "</div>"
      ],
      "text/plain": [
       "              GGAL      GGAL.BA    Dólar CCL\n",
       "count  4202.000000  4202.000000  4202.000000\n",
       "mean     14.074543    25.640470    13.024448\n",
       "std      13.303909    38.960298    19.459834\n",
       "min       1.389264     0.550483     2.667486\n",
       "25%       5.643287     2.097993     3.107777\n",
       "50%       8.082202     3.413712     4.449153\n",
       "75%      17.775762    36.736938    14.224320\n",
       "max      71.444939   174.550003   125.788149"
      ]
     },
     "execution_count": 45,
     "metadata": {},
     "output_type": "execute_result"
    }
   ],
   "source": [
    "#Resume of Dataframe\n",
    "GGAL_CCL.describe()"
   ]
  },
  {
   "cell_type": "code",
   "execution_count": 46,
   "metadata": {},
   "outputs": [
    {
     "name": "stderr",
     "output_type": "stream",
     "text": [
      "C:\\Users\\Juan Ignacio\\anaconda3\\lib\\site-packages\\ipykernel_launcher.py:1: SettingWithCopyWarning: \n",
      "A value is trying to be set on a copy of a slice from a DataFrame.\n",
      "Try using .loc[row_indexer,col_indexer] = value instead\n",
      "\n",
      "See the caveats in the documentation: https://pandas.pydata.org/pandas-docs/stable/user_guide/indexing.html#returning-a-view-versus-a-copy\n",
      "  \"\"\"Entry point for launching an IPython kernel.\n"
     ]
    }
   ],
   "source": [
    "GGAL_CCL[\"Dólar CCL\"] = ((GGAL_CCL[\"GGAL.BA\"]*10)/(GGAL_CCL[\"GGAL\"]))"
   ]
  },
  {
   "cell_type": "code",
   "execution_count": 47,
   "metadata": {
    "scrolled": true
   },
   "outputs": [
    {
     "data": {
      "text/html": [
       "<div>\n",
       "<style scoped>\n",
       "    .dataframe tbody tr th:only-of-type {\n",
       "        vertical-align: middle;\n",
       "    }\n",
       "\n",
       "    .dataframe tbody tr th {\n",
       "        vertical-align: top;\n",
       "    }\n",
       "\n",
       "    .dataframe thead th {\n",
       "        text-align: right;\n",
       "    }\n",
       "</style>\n",
       "<table border=\"1\" class=\"dataframe\">\n",
       "  <thead>\n",
       "    <tr style=\"text-align: right;\">\n",
       "      <th></th>\n",
       "      <th>GGAL</th>\n",
       "      <th>GGAL.BA</th>\n",
       "      <th>Dólar CCL</th>\n",
       "    </tr>\n",
       "    <tr>\n",
       "      <th>Date</th>\n",
       "      <th></th>\n",
       "      <th></th>\n",
       "      <th></th>\n",
       "    </tr>\n",
       "  </thead>\n",
       "  <tbody>\n",
       "    <tr>\n",
       "      <th>2003-01-02</th>\n",
       "      <td>1.952801</td>\n",
       "      <td>0.666931</td>\n",
       "      <td>3.415254</td>\n",
       "    </tr>\n",
       "    <tr>\n",
       "      <th>2003-01-03</th>\n",
       "      <td>2.076637</td>\n",
       "      <td>0.702539</td>\n",
       "      <td>3.383061</td>\n",
       "    </tr>\n",
       "    <tr>\n",
       "      <th>2003-01-06</th>\n",
       "      <td>2.400516</td>\n",
       "      <td>0.765094</td>\n",
       "      <td>3.187206</td>\n",
       "    </tr>\n",
       "    <tr>\n",
       "      <th>2003-01-07</th>\n",
       "      <td>2.381465</td>\n",
       "      <td>0.765094</td>\n",
       "      <td>3.212703</td>\n",
       "    </tr>\n",
       "    <tr>\n",
       "      <th>2003-01-08</th>\n",
       "      <td>2.381465</td>\n",
       "      <td>0.784342</td>\n",
       "      <td>3.293526</td>\n",
       "    </tr>\n",
       "    <tr>\n",
       "      <th>...</th>\n",
       "      <td>...</td>\n",
       "      <td>...</td>\n",
       "      <td>...</td>\n",
       "    </tr>\n",
       "    <tr>\n",
       "      <th>2020-06-23</th>\n",
       "      <td>10.240000</td>\n",
       "      <td>111.849998</td>\n",
       "      <td>109.228517</td>\n",
       "    </tr>\n",
       "    <tr>\n",
       "      <th>2020-06-24</th>\n",
       "      <td>10.040000</td>\n",
       "      <td>110.500000</td>\n",
       "      <td>110.059761</td>\n",
       "    </tr>\n",
       "    <tr>\n",
       "      <th>2020-06-25</th>\n",
       "      <td>10.670000</td>\n",
       "      <td>116.250000</td>\n",
       "      <td>108.950327</td>\n",
       "    </tr>\n",
       "    <tr>\n",
       "      <th>2020-06-26</th>\n",
       "      <td>10.210000</td>\n",
       "      <td>110.400002</td>\n",
       "      <td>108.129286</td>\n",
       "    </tr>\n",
       "    <tr>\n",
       "      <th>2020-06-29</th>\n",
       "      <td>10.330000</td>\n",
       "      <td>109.800003</td>\n",
       "      <td>106.292356</td>\n",
       "    </tr>\n",
       "  </tbody>\n",
       "</table>\n",
       "<p>4202 rows × 3 columns</p>\n",
       "</div>"
      ],
      "text/plain": [
       "                 GGAL     GGAL.BA   Dólar CCL\n",
       "Date                                         \n",
       "2003-01-02   1.952801    0.666931    3.415254\n",
       "2003-01-03   2.076637    0.702539    3.383061\n",
       "2003-01-06   2.400516    0.765094    3.187206\n",
       "2003-01-07   2.381465    0.765094    3.212703\n",
       "2003-01-08   2.381465    0.784342    3.293526\n",
       "...               ...         ...         ...\n",
       "2020-06-23  10.240000  111.849998  109.228517\n",
       "2020-06-24  10.040000  110.500000  110.059761\n",
       "2020-06-25  10.670000  116.250000  108.950327\n",
       "2020-06-26  10.210000  110.400002  108.129286\n",
       "2020-06-29  10.330000  109.800003  106.292356\n",
       "\n",
       "[4202 rows x 3 columns]"
      ]
     },
     "execution_count": 47,
     "metadata": {},
     "output_type": "execute_result"
    }
   ],
   "source": [
    "GGAL_CCL"
   ]
  },
  {
   "cell_type": "code",
   "execution_count": 48,
   "metadata": {
    "scrolled": true
   },
   "outputs": [
    {
     "data": {
      "text/plain": [
       "count    4202.000000\n",
       "mean       13.024448\n",
       "std        19.459834\n",
       "min         2.667486\n",
       "25%         3.107777\n",
       "50%         4.449153\n",
       "75%        14.224320\n",
       "max       125.788149\n",
       "Name: Dólar CCL, dtype: float64"
      ]
     },
     "execution_count": 48,
     "metadata": {},
     "output_type": "execute_result"
    }
   ],
   "source": [
    "GGAL_CCL[\"Dólar CCL\"].describe()"
   ]
  },
  {
   "cell_type": "markdown",
   "metadata": {},
   "source": [
    "## Dólar CCL [ARS/USD]"
   ]
  },
  {
   "cell_type": "code",
   "execution_count": 51,
   "metadata": {
    "scrolled": false
   },
   "outputs": [
    {
     "data": {
      "text/plain": [
       "[]"
      ]
     },
     "execution_count": 51,
     "metadata": {},
     "output_type": "execute_result"
    },
    {
     "data": {
      "image/png": "[encoded data removed]",
      "text/plain": [
       "<Figure size 1440x864 with 1 Axes>"
      ]
     },
     "metadata": {
      "needs_background": "light"
     },
     "output_type": "display_data"
    }
   ],
   "source": [
    "GGAL_CCL[\"Dólar CCL\"].plot(figsize=(20,12), color=\"g\")\n",
    "plt.title(\"DÓLAR CCL\")\n",
    "plt.ylabel(\"Pesos ARS\")\n",
    "plt.plot(label=\"Fecha\")"
   ]
  },
  {
   "cell_type": "code",
   "execution_count": null,
   "metadata": {},
   "outputs": [],
   "source": []
  }
 ],
 "metadata": {
  "kernelspec": {
   "display_name": "Python 3",
   "language": "python",
   "name": "python3"
  },
  "language_info": {
   "codemirror_mode": {
    "name": "ipython",
    "version": 3
   },
   "file_extension": ".py",
   "mimetype": "text/x-python",
   "name": "python",
   "nbconvert_exporter": "python",
   "pygments_lexer": "ipython3",
   "version": "3.7.6"
  }
 },
 "nbformat": 4,
 "nbformat_minor": 4
}
